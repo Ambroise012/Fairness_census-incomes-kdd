{
  "cells": [
    {
      "cell_type": "markdown",
      "metadata": {
        "id": "9rNXpz4yFpkI"
      },
      "source": [
        "# 0. Import packages and librairies"
      ]
    },
    {
      "cell_type": "code",
      "execution_count": null,
      "metadata": {
        "colab": {
          "base_uri": "https://localhost:8080/"
        },
        "id": "xH49r6BO1aTA",
        "outputId": "fed1ca4e-dc00-4787-f61c-7c81138a22ab"
      },
      "outputs": [
        {
          "output_type": "stream",
          "name": "stdout",
          "text": [
            "Requirement already satisfied: ucimlrepo in /usr/local/lib/python3.11/dist-packages (0.0.7)\n",
            "Requirement already satisfied: aif360 in /usr/local/lib/python3.11/dist-packages (0.6.1)\n",
            "Requirement already satisfied: fairlearn in /usr/local/lib/python3.11/dist-packages (0.12.0)\n",
            "Requirement already satisfied: pandas>=1.0.0 in /usr/local/lib/python3.11/dist-packages (from ucimlrepo) (2.2.2)\n",
            "Requirement already satisfied: certifi>=2020.12.5 in /usr/local/lib/python3.11/dist-packages (from ucimlrepo) (2025.1.31)\n",
            "Requirement already satisfied: numpy>=1.16 in /usr/local/lib/python3.11/dist-packages (from aif360) (1.26.4)\n",
            "Requirement already satisfied: scipy>=1.2.0 in /usr/local/lib/python3.11/dist-packages (from aif360) (1.13.1)\n",
            "Requirement already satisfied: scikit-learn>=1.0 in /usr/local/lib/python3.11/dist-packages (from aif360) (1.6.1)\n",
            "Requirement already satisfied: matplotlib in /usr/local/lib/python3.11/dist-packages (from aif360) (3.10.0)\n",
            "Requirement already satisfied: python-dateutil>=2.8.2 in /usr/local/lib/python3.11/dist-packages (from pandas>=1.0.0->ucimlrepo) (2.8.2)\n",
            "Requirement already satisfied: pytz>=2020.1 in /usr/local/lib/python3.11/dist-packages (from pandas>=1.0.0->ucimlrepo) (2025.1)\n",
            "Requirement already satisfied: tzdata>=2022.7 in /usr/local/lib/python3.11/dist-packages (from pandas>=1.0.0->ucimlrepo) (2025.1)\n",
            "Requirement already satisfied: joblib>=1.2.0 in /usr/local/lib/python3.11/dist-packages (from scikit-learn>=1.0->aif360) (1.4.2)\n",
            "Requirement already satisfied: threadpoolctl>=3.1.0 in /usr/local/lib/python3.11/dist-packages (from scikit-learn>=1.0->aif360) (3.5.0)\n",
            "Requirement already satisfied: contourpy>=1.0.1 in /usr/local/lib/python3.11/dist-packages (from matplotlib->aif360) (1.3.1)\n",
            "Requirement already satisfied: cycler>=0.10 in /usr/local/lib/python3.11/dist-packages (from matplotlib->aif360) (0.12.1)\n",
            "Requirement already satisfied: fonttools>=4.22.0 in /usr/local/lib/python3.11/dist-packages (from matplotlib->aif360) (4.56.0)\n",
            "Requirement already satisfied: kiwisolver>=1.3.1 in /usr/local/lib/python3.11/dist-packages (from matplotlib->aif360) (1.4.8)\n",
            "Requirement already satisfied: packaging>=20.0 in /usr/local/lib/python3.11/dist-packages (from matplotlib->aif360) (24.2)\n",
            "Requirement already satisfied: pillow>=8 in /usr/local/lib/python3.11/dist-packages (from matplotlib->aif360) (11.1.0)\n",
            "Requirement already satisfied: pyparsing>=2.3.1 in /usr/local/lib/python3.11/dist-packages (from matplotlib->aif360) (3.2.1)\n",
            "Requirement already satisfied: six>=1.5 in /usr/local/lib/python3.11/dist-packages (from python-dateutil>=2.8.2->pandas>=1.0.0->ucimlrepo) (1.17.0)\n"
          ]
        }
      ],
      "source": [
        "!pip install ucimlrepo aif360 fairlearn\n"
      ]
    },
    {
      "cell_type": "code",
      "execution_count": null,
      "metadata": {
        "id": "w0mCF3_4FJe0"
      },
      "outputs": [],
      "source": [
        "from ucimlrepo import fetch_ucirepo\n",
        "import pandas as pd\n",
        "import numpy as np\n",
        "from fairlearn.metrics import demographic_parity_difference, equalized_odds_difference, selection_rate\n",
        "from sklearn.model_selection import train_test_split\n",
        "from sklearn.preprocessing import LabelEncoder\n",
        "from sklearn.metrics import confusion_matrix\n",
        "import seaborn as sns\n",
        "import matplotlib.pyplot as plt\n",
        "from sklearn.metrics import mean_absolute_error, brier_score_loss\n",
        "from fairlearn.metrics import selection_rate\n",
        "from sklearn.preprocessing import StandardScaler\n",
        "from sklearn.linear_model import LogisticRegression\n",
        "from sklearn.tree import DecisionTreeClassifier\n",
        "from sklearn.ensemble import RandomForestClassifier, AdaBoostClassifier, GradientBoostingClassifier\n",
        "from xgboost import XGBClassifier\n",
        "from sklearn.metrics import accuracy_score, classification_report\n",
        "from tqdm import tqdm\n",
        "import joblib\n",
        "\n",
        "from aif360.datasets import StandardDataset\n",
        "from aif360.metrics import BinaryLabelDatasetMetric, ClassificationMetric\n",
        "from aif360.algorithms.preprocessing import DisparateImpactRemover\n"
      ]
    },
    {
      "cell_type": "markdown",
      "metadata": {
        "id": "4xVqlYqeE6wn"
      },
      "source": [
        "# 1. Import dataset"
      ]
    },
    {
      "cell_type": "markdown",
      "metadata": {
        "id": "gJEKuFxAJzrB"
      },
      "source": [
        "Dataset avaible at : https://archive.ics.uci.edu/dataset/117/census+income+kdd"
      ]
    },
    {
      "cell_type": "code",
      "execution_count": null,
      "metadata": {
        "colab": {
          "base_uri": "https://localhost:8080/"
        },
        "id": "suV93xM8Em_s",
        "outputId": "cd79c7fe-45ab-4f1c-f122-57e15caad9fe"
      },
      "outputs": [
        {
          "output_type": "stream",
          "name": "stdout",
          "text": [
            "{'uci_id': 117, 'name': 'Census-Income (KDD)', 'repository_url': 'https://archive.ics.uci.edu/dataset/117/census+income+kdd', 'data_url': 'https://archive.ics.uci.edu/static/public/117/data.csv', 'abstract': 'This data set contains weighted census data extracted from the 1994 and 1995 current population surveys conducted by the U.S. Census Bureau.', 'area': 'Social Science', 'tasks': ['Classification'], 'characteristics': ['Multivariate'], 'num_instances': 299285, 'num_features': 41, 'feature_types': ['Categorical', 'Integer'], 'demographics': ['Age', 'Occupation', 'Education Level', 'Marital Status', 'Race', 'Sex', 'Other', 'Nationality', 'Income'], 'target_col': ['income'], 'index_col': None, 'has_missing_values': 'yes', 'missing_values_symbol': 'NaN', 'year_of_dataset_creation': 2000, 'last_updated': 'Fri Mar 08 2024', 'dataset_doi': '10.24432/C5N30T', 'creators': [], 'intro_paper': None, 'additional_info': {'summary': \"This data set contains weighted census data extracted from the 1994 and 1995 Current Population Surveys conducted by the U.S. Census Bureau. The data contains 41 demographic and employment related variables. \\r\\n\\r\\nThe instance weight indicates the number of people in the population that each record represents due to stratified sampling. To do real analysis and derive conclusions, this field must be used. This attribute should *not* be used in the classifiers. \\r\\n\\r\\nOne instance per line with comma delimited fields. There are 199523 instances in the data file and 99762 in the test file. \\r\\n\\r\\nThe data was split into train/test in approximately 2/3, 1/3 proportions using MineSet's MIndUtil mineset-to-mlc. \\r\\n\", 'purpose': None, 'funded_by': None, 'instances_represent': None, 'recommended_data_splits': None, 'sensitive_data': None, 'preprocessing_description': None, 'variable_info': 'More information detailing the meaning of the attributes can be found in the Census Bureau\\'s documentation To make use of the data descriptions at this site, the following mappings to the Census Bureau\\'s internal database column names will be needed: \\r\\n\\r\\nage\\t\\t\\t\\t\\t\\tAAGE\\r\\nclass of worker\\t\\t\\t\\t\\tACLSWKR\\r\\nindustry code\\t\\t\\t\\t\\tADTIND\\r\\noccupation code\\t\\t\\t\\t\\tADTOCC\\r\\nadjusted gross income\\t\\t\\t\\tAGI\\r\\neducation\\t\\t\\t\\t\\tAHGA\\r\\nwage per hour\\t\\t\\t\\t\\tAHRSPAY\\r\\nenrolled in edu inst last wk\\t\\t\\tAHSCOL\\r\\nmarital status\\t\\t\\t\\t\\tAMARITL\\r\\nmajor industry code\\t\\t\\t\\tAMJIND\\r\\nmajor occupation code\\t\\t\\t\\tAMJOCC\\r\\nmace\\t\\t\\t\\t\\t\\tARACE\\r\\nhispanic Origin\\t\\t\\t\\t\\tAREORGN\\r\\nsex\\t\\t\\t\\t\\t\\tASEX\\r\\nmember of a labor union\\t\\t\\t\\tAUNMEM\\r\\nreason for unemployment\\t\\t\\t\\tAUNTYPE\\r\\nfull or part time employment stat\\t\\tAWKSTAT\\r\\ncapital gains\\t\\t\\t\\t\\tCAPGAIN\\r\\ncapital losses\\t\\t\\t\\t\\tCAPLOSS\\r\\ndivdends from stocks\\t\\t\\t\\tDIVVAL\\r\\nfederal income tax liability\\t\\t\\tFEDTAX\\r\\ntax filer status\\t\\t\\t\\tFILESTAT\\r\\nregion of previous residence\\t\\t\\tGRINREG\\r\\nstate of previous residence\\t\\t\\tGRINST\\r\\ndetailed household and family stat\\t\\tHHDFMX\\r\\ndetailed household summary in household\\t\\tHHDREL\\r\\ninstance weight\\t\\t\\t\\t\\tMARSUPWT\\r\\nmigration code-change in msa\\t\\t\\tMIGMTR1\\r\\nmigration code-change in reg\\t\\t\\tMIGMTR3\\r\\nmigration code-move within reg\\t\\t\\tMIGMTR4\\r\\nlive in this house 1 year ago\\t\\t\\tMIGSAME\\r\\nmigration prev res in sunbelt\\t\\t\\tMIGSUN\\r\\nnum persons worked for employer\\t\\t\\tNOEMP\\r\\nfamily members under 18\\t\\t\\t\\tPARENT\\r\\ntotal person earnings\\t\\t\\t\\tPEARNVAL\\r\\ncountry of birth father\\t\\t\\t\\tPEFNTVTY\\r\\ncountry of birth mother\\t\\t\\t\\tPEMNTVTY\\r\\ncountry of birth self\\t\\t\\t\\tPENATVTY\\r\\ncitizenship\\t\\t\\t\\t\\tPRCITSHP\\r\\ntotal person income\\t\\t\\t\\tPTOTVAL\\r\\nown business or self employed\\t\\t\\tSEOTR\\r\\ntaxable income amount\\t\\t\\t\\tTAXINC\\r\\nfill inc questionnaire for veteran\\'s admin\\tVETQVA\\r\\nveterans benefits\\t\\t\\t\\tVETYN\\r\\nweeks worked in year\\t\\t\\t\\tWKSWORK\\r\\n\\r\\nNote that Incomes have been binned at the $50K level to present a binary classification problem, much like the original UCI/ADULT database. The goal field of this data, however, was drawn from the \"total person income\" field rather than the \"adjusted gross income\" and may, therefore, behave differently than the orginal ADULT goal field. \\r\\n', 'citation': None}}\n",
            "         name     role         type      demographic  \\\n",
            "0        AAGE  Feature      Integer              Age   \n",
            "1     ACLSWKR  Feature  Categorical             None   \n",
            "2      ADTINK  Feature      Integer             None   \n",
            "3      ADTOCC  Feature      Integer       Occupation   \n",
            "4        AHGA  Feature      Integer  Education Level   \n",
            "5      AHSCOL  Feature  Categorical  Education Level   \n",
            "6     AMARITL  Feature  Categorical   Marital Status   \n",
            "7      AMJIND  Feature  Categorical             None   \n",
            "8      AMJOCC  Feature  Categorical       Occupation   \n",
            "9       ARACE  Feature  Categorical             Race   \n",
            "10    AREORGN  Feature  Categorical             None   \n",
            "11       ASEX  Feature  Categorical              Sex   \n",
            "12     AUNMEM  Feature  Categorical             None   \n",
            "13    AUNTYPE  Feature  Categorical             None   \n",
            "14    AWKSTAT  Feature      Integer             None   \n",
            "15    CAPGAIN  Feature      Integer             None   \n",
            "16    GAPLOSS  Feature      Integer             None   \n",
            "17     DIVVAL  Feature  Categorical             None   \n",
            "18   FILESTAT  Feature  Categorical             None   \n",
            "19    GRINREG  Feature  Categorical             None   \n",
            "20     GRINST  Feature  Categorical             None   \n",
            "21     HHDFMX  Feature   Continuous            Other   \n",
            "22     HHDREL  Feature  Categorical             None   \n",
            "23  MARSUPWRT  Feature  Categorical             None   \n",
            "24    MIGMTR1  Feature  Categorical             None   \n",
            "25    MIGMTR3  Feature  Categorical             None   \n",
            "26    MIGMTR4  Feature  Categorical             None   \n",
            "27    MIGSAME  Feature      Integer             None   \n",
            "28     MIGSUN  Feature  Categorical             None   \n",
            "29      NOEMP  Feature  Categorical             None   \n",
            "30     PARENT  Feature  Categorical             None   \n",
            "31   PEFNTVTY  Feature  Categorical             None   \n",
            "32   PEMNTVTY  Feature      Integer             None   \n",
            "33   PENATVTY  Feature  Categorical      Nationality   \n",
            "34   PRCITSHP  Feature      Integer             None   \n",
            "35      SEOTR  Feature      Integer             None   \n",
            "36     VETQVA  Feature  Categorical             None   \n",
            "37      VETYN  Feature  Categorical             None   \n",
            "38    WKSWORK  Feature  Categorical             None   \n",
            "39     income   Target       Binary           Income   \n",
            "40    AHRSPAY  Feature      Integer             None   \n",
            "41       year  Feature      Integer             None   \n",
            "\n",
            "                                  description units missing_values  \n",
            "0                                         age  None             no  \n",
            "1                             class of worker  None             no  \n",
            "2                               industry code  None             no  \n",
            "3                             occupation code  None             no  \n",
            "4                                   education  None             no  \n",
            "5                   enrolled in edu last week  None             no  \n",
            "6                              marital status  None             no  \n",
            "7                         major industry code  None             no  \n",
            "8                       major occupation code  None             no  \n",
            "9                                        race  None             no  \n",
            "10                            hispanic origin  None             no  \n",
            "11                                        sex  None             no  \n",
            "12                    member of a labor union  None             no  \n",
            "13                    reason for unemployment  None             no  \n",
            "14          full or part time employment stat  None             no  \n",
            "15                              capital gains  None             no  \n",
            "16                             capital losses  None             no  \n",
            "17                      dividends from stocks  None             no  \n",
            "18                           tax filer status  None             no  \n",
            "19               region of previous residence  None             no  \n",
            "20                state of previous residence  None             no  \n",
            "21         detailed household and family stat  None             no  \n",
            "22    detailed household summary in household  None             no  \n",
            "23                            instance weight  None             no  \n",
            "24               migration code-change in msa  None            yes  \n",
            "25               migration code-change in reg  None            yes  \n",
            "26             migration code-move within reg  None            yes  \n",
            "27              live in this house 1 year ago  None             no  \n",
            "28              migration prev res in sunbelt  None            yes  \n",
            "29            num persons worked for employer  None             no  \n",
            "30                    family members under 18  None             no  \n",
            "31                    country of birth father  None            yes  \n",
            "32                    country of birth mother  None            yes  \n",
            "33                      country of birth self  None             no  \n",
            "34                                citizenship  None             no  \n",
            "35              own business or self employed  None             no  \n",
            "36  fill inc questionaire for veteran's admin  None             no  \n",
            "37                          veterans benefits  None             no  \n",
            "38                       weeks worked in year  None             no  \n",
            "39                        below or above $50k  None             no  \n",
            "40                              wage per hour  None             no  \n",
            "41                                   94 or 95  None             no  \n"
          ]
        }
      ],
      "source": [
        "# fetch dataset\n",
        "census_income_kdd = fetch_ucirepo(id=117)\n",
        "\n",
        "# data (as pandas dataframes)\n",
        "X = census_income_kdd.data.features\n",
        "y = census_income_kdd.data.targets\n",
        "\n",
        "# metadata\n",
        "print(census_income_kdd.metadata)\n",
        "\n",
        "# variable information\n",
        "print(census_income_kdd.variables)"
      ]
    },
    {
      "cell_type": "markdown",
      "metadata": {
        "id": "fKfSzWHKGGLx"
      },
      "source": [
        "# 2. Data Pre-processing"
      ]
    },
    {
      "cell_type": "code",
      "execution_count": null,
      "metadata": {
        "colab": {
          "base_uri": "https://localhost:8080/"
        },
        "id": "ifUA-1k_Gd7V",
        "outputId": "04a958cd-e315-428c-eec0-25534e2ff856"
      },
      "outputs": [
        {
          "output_type": "stream",
          "name": "stdout",
          "text": [
            "Shape of X: (199523, 41)\n",
            "Shape of y: (199523, 1)\n",
            "   AAGE                          ACLSWKR  ADTINK  ADTOCC  \\\n",
            "0    73                  Not in universe       0       0   \n",
            "1    58   Self-employed-not incorporated       4      34   \n",
            "2    18                  Not in universe       0       0   \n",
            "3     9                  Not in universe       0       0   \n",
            "4    10                  Not in universe       0       0   \n",
            "\n",
            "                          AHGA            AHSCOL         AMARITL  \\\n",
            "0         High school graduate   Not in universe         Widowed   \n",
            "1   Some college but no degree   Not in universe        Divorced   \n",
            "2                   10th grade       High school   Never married   \n",
            "3                     Children   Not in universe   Never married   \n",
            "4                     Children   Not in universe   Never married   \n",
            "\n",
            "                         AMJIND                                AMJOCC  \\\n",
            "0   Not in universe or children                       Not in universe   \n",
            "1                  Construction   Precision production craft & repair   \n",
            "2   Not in universe or children                       Not in universe   \n",
            "3   Not in universe or children                       Not in universe   \n",
            "4   Not in universe or children                       Not in universe   \n",
            "\n",
            "                        ARACE  ...        PEFNTVTY        PEMNTVTY  \\\n",
            "0                       White  ...   United-States   United-States   \n",
            "1                       White  ...   United-States   United-States   \n",
            "2   Asian or Pacific Islander  ...         Vietnam         Vietnam   \n",
            "3                       White  ...   United-States   United-States   \n",
            "4                       White  ...   United-States   United-States   \n",
            "\n",
            "         PENATVTY                              PRCITSHP SEOTR  \\\n",
            "0   United-States     Native- Born in the United States     0   \n",
            "1   United-States     Native- Born in the United States     0   \n",
            "2         Vietnam   Foreign born- Not a citizen of U S      0   \n",
            "3   United-States     Native- Born in the United States     0   \n",
            "4   United-States     Native- Born in the United States     0   \n",
            "\n",
            "             VETQVA  VETYN  WKSWORK AHRSPAY year  \n",
            "0   Not in universe      2        0       0   95  \n",
            "1   Not in universe      2       52       0   94  \n",
            "2   Not in universe      2        0       0   95  \n",
            "3   Not in universe      0        0       0   94  \n",
            "4   Not in universe      0        0       0   94  \n",
            "\n",
            "[5 rows x 41 columns]\n",
            "   income\n",
            "0  -50000\n",
            "1  -50000\n",
            "2  -50000\n",
            "3  -50000\n",
            "4  -50000\n",
            "AAGE           int64\n",
            "ACLSWKR       object\n",
            "ADTINK         int64\n",
            "ADTOCC         int64\n",
            "AHGA          object\n",
            "AHSCOL        object\n",
            "AMARITL       object\n",
            "AMJIND        object\n",
            "AMJOCC        object\n",
            "ARACE         object\n",
            "AREORGN       object\n",
            "ASEX          object\n",
            "AUNMEM        object\n",
            "AUNTYPE       object\n",
            "AWKSTAT       object\n",
            "CAPGAIN        int64\n",
            "GAPLOSS        int64\n",
            "DIVVAL         int64\n",
            "FILESTAT      object\n",
            "GRINREG       object\n",
            "GRINST        object\n",
            "HHDFMX        object\n",
            "HHDREL        object\n",
            "MARSUPWRT    float64\n",
            "MIGMTR1       object\n",
            "MIGMTR3       object\n",
            "MIGMTR4       object\n",
            "MIGSAME       object\n",
            "MIGSUN        object\n",
            "NOEMP          int64\n",
            "PARENT        object\n",
            "PEFNTVTY      object\n",
            "PEMNTVTY      object\n",
            "PENATVTY      object\n",
            "PRCITSHP      object\n",
            "SEOTR          int64\n",
            "VETQVA        object\n",
            "VETYN          int64\n",
            "WKSWORK        int64\n",
            "AHRSPAY        int64\n",
            "year           int64\n",
            "dtype: object\n",
            "                AAGE         ADTINK         ADTOCC       CAPGAIN  \\\n",
            "count  199523.000000  199523.000000  199523.000000  199523.00000   \n",
            "mean       34.494199      15.352320      11.306556     434.71899   \n",
            "std        22.310895      18.067129      14.454204    4697.53128   \n",
            "min         0.000000       0.000000       0.000000       0.00000   \n",
            "25%        15.000000       0.000000       0.000000       0.00000   \n",
            "50%        33.000000       0.000000       0.000000       0.00000   \n",
            "75%        50.000000      33.000000      26.000000       0.00000   \n",
            "max        90.000000      51.000000      46.000000   99999.00000   \n",
            "\n",
            "             GAPLOSS         DIVVAL      MARSUPWRT          NOEMP  \\\n",
            "count  199523.000000  199523.000000  199523.000000  199523.000000   \n",
            "mean       37.313788     197.529533    1740.380269       1.956180   \n",
            "std       271.896428    1984.163658     993.768156       2.365126   \n",
            "min         0.000000       0.000000      37.870000       0.000000   \n",
            "25%         0.000000       0.000000    1061.615000       0.000000   \n",
            "50%         0.000000       0.000000    1618.310000       1.000000   \n",
            "75%         0.000000       0.000000    2188.610000       4.000000   \n",
            "max      4608.000000   99999.000000   18656.300000       6.000000   \n",
            "\n",
            "               SEOTR          VETYN        WKSWORK        AHRSPAY  \\\n",
            "count  199523.000000  199523.000000  199523.000000  199523.000000   \n",
            "mean        0.175438       1.514833      23.174897      55.426908   \n",
            "std         0.553694       0.851473      24.411488     274.896454   \n",
            "min         0.000000       0.000000       0.000000       0.000000   \n",
            "25%         0.000000       2.000000       0.000000       0.000000   \n",
            "50%         0.000000       2.000000       8.000000       0.000000   \n",
            "75%         0.000000       2.000000      52.000000       0.000000   \n",
            "max         2.000000       2.000000      52.000000    9999.000000   \n",
            "\n",
            "                year  \n",
            "count  199523.000000  \n",
            "mean       94.499672  \n",
            "std         0.500001  \n",
            "min        94.000000  \n",
            "25%        94.000000  \n",
            "50%        94.000000  \n",
            "75%        95.000000  \n",
            "max        95.000000  \n",
            "AAGE             0\n",
            "ACLSWKR          0\n",
            "ADTINK           0\n",
            "ADTOCC           0\n",
            "AHGA             0\n",
            "AHSCOL           0\n",
            "AMARITL          0\n",
            "AMJIND           0\n",
            "AMJOCC           0\n",
            "ARACE            0\n",
            "AREORGN          0\n",
            "ASEX             0\n",
            "AUNMEM           0\n",
            "AUNTYPE          0\n",
            "AWKSTAT          0\n",
            "CAPGAIN          0\n",
            "GAPLOSS          0\n",
            "DIVVAL           0\n",
            "FILESTAT         0\n",
            "GRINREG          0\n",
            "GRINST         708\n",
            "HHDFMX           0\n",
            "HHDREL           0\n",
            "MARSUPWRT        0\n",
            "MIGMTR1      99696\n",
            "MIGMTR3      99696\n",
            "MIGMTR4      99696\n",
            "MIGSAME          0\n",
            "MIGSUN       99696\n",
            "NOEMP            0\n",
            "PARENT           0\n",
            "PEFNTVTY      6713\n",
            "PEMNTVTY      6119\n",
            "PENATVTY      3393\n",
            "PRCITSHP         0\n",
            "SEOTR            0\n",
            "VETQVA           0\n",
            "VETYN            0\n",
            "WKSWORK          0\n",
            "AHRSPAY          0\n",
            "year             0\n",
            "dtype: int64\n",
            "[' Female' ' Male']\n",
            "[' White' ' Asian or Pacific Islander' ' Amer Indian Aleut or Eskimo'\n",
            " ' Black' ' Other']\n",
            "['-50000' ' 50000+.']\n"
          ]
        }
      ],
      "source": [
        "# Display the dimensions of the data\n",
        "print(f\"Shape of X: {X.shape}\")\n",
        "print(f\"Shape of y: {y.shape}\")\n",
        "\n",
        "# Display the first rows of features and targets\n",
        "print(X.head())\n",
        "print(y.head())\n",
        "\n",
        "# Display the data types of the variables\n",
        "print(X.dtypes)\n",
        "\n",
        "# Descriptive statistics for numerical variables\n",
        "print(X.describe())\n",
        "\n",
        "# Check for missing values\n",
        "print(X.isnull().sum())\n",
        "\n",
        "# Load the data into a pandas DataFrame\n",
        "df_census = census_income_kdd.data.original  # Use the raw data\n",
        "\n",
        "print(df_census['ASEX'].unique())\n",
        "print(df_census['ARACE'].unique())\n",
        "print(df_census['income'].unique())\n"
      ]
    },
    {
      "cell_type": "code",
      "execution_count": null,
      "metadata": {
        "id": "vCzNbeiTGfBq"
      },
      "outputs": [],
      "source": [
        "plt.figure(figsize=(10, 9))\n",
        "sns.barplot(x='AMJOCC', y='CAPGAIN', data=df_census, hue='ASEX', errorbar=None)\n",
        "plt.xticks(rotation=70)\n",
        "plt.title(\"Title\")\n",
        "plt.xlabel(\"Occupation\")\n",
        "plt.ylabel(\"Capital Gain\")\n",
        "plt.show()\n"
      ]
    },
    {
      "cell_type": "code",
      "execution_count": null,
      "metadata": {
        "id": "ij1hacitHeVM"
      },
      "outputs": [],
      "source": [
        "plt.figure(figsize=(10, 8))\n",
        "sns.barplot(x='AHGA', y='AHRSPAY', data=df_census, hue='income', errorbar=None)\n",
        "plt.xticks(rotation=70)\n",
        "plt.title(\"Distribution of Hours Worked by Education Level and Income\")\n",
        "plt.xlabel(\"Education Level\")\n",
        "plt.ylabel(\"Hours Worked per Week\")\n",
        "plt.show()\n"
      ]
    },
    {
      "cell_type": "markdown",
      "metadata": {
        "id": "_dCJ3jDGH8wH"
      },
      "source": [
        "Transform into numeric value to reduce computational cost"
      ]
    },
    {
      "cell_type": "code",
      "execution_count": null,
      "metadata": {
        "colab": {
          "base_uri": "https://localhost:8080/"
        },
        "id": "AbmXNdB0H7vu",
        "outputId": "7255ce10-5b3b-4e9a-8413-d821fe2ead98"
      },
      "outputs": [
        {
          "name": "stdout",
          "output_type": "stream",
          "text": [
            "   AAGE  ADTINK  ADTOCC  AHRSPAY  ASEX  CAPGAIN  GAPLOSS  DIVVAL  MARSUPWRT  \\\n",
            "0    73       0       0        0     0        0        0       0    1700.09   \n",
            "1    58       4      34        0     1        0        0       0    1053.55   \n",
            "2    18       0       0        0     0        0        0       0     991.95   \n",
            "3     9       0       0        0     0        0        0       0    1758.14   \n",
            "4    10       0       0        0     0        0        0       0    1069.16   \n",
            "\n",
            "   NOEMP  SEOTR  VETYN  WKSWORK  year  income  ACLSWKR_ Local government  \\\n",
            "0      0      0      2        0    95       1                      False   \n",
            "1      1      0      2       52    94       1                      False   \n",
            "2      0      0      2        0    95       1                      False   \n",
            "3      0      0      0        0    94       1                      False   \n",
            "4      0      0      0        0    94       1                      False   \n",
            "\n",
            "   ACLSWKR_ Never worked  ACLSWKR_ Not in universe  ACLSWKR_ Private  \\\n",
            "0                  False                      True             False   \n",
            "1                  False                     False             False   \n",
            "2                  False                      True             False   \n",
            "3                  False                      True             False   \n",
            "4                  False                      True             False   \n",
            "\n",
            "   ACLSWKR_ Self-employed-incorporated  \\\n",
            "0                                False   \n",
            "1                                False   \n",
            "2                                False   \n",
            "3                                False   \n",
            "4                                False   \n",
            "\n",
            "   ACLSWKR_ Self-employed-not incorporated  ACLSWKR_ State government  \\\n",
            "0                                    False                      False   \n",
            "1                                     True                      False   \n",
            "2                                    False                      False   \n",
            "3                                    False                      False   \n",
            "4                                    False                      False   \n",
            "\n",
            "   ACLSWKR_ Without pay  AHGA_ 11th grade  AHGA_ 12th grade no diploma  \\\n",
            "0                 False             False                        False   \n",
            "1                 False             False                        False   \n",
            "2                 False             False                        False   \n",
            "3                 False             False                        False   \n",
            "4                 False             False                        False   \n",
            "\n",
            "   AHGA_ 1st 2nd 3rd or 4th grade  AHGA_ 5th or 6th grade  \\\n",
            "0                           False                   False   \n",
            "1                           False                   False   \n",
            "2                           False                   False   \n",
            "3                           False                   False   \n",
            "4                           False                   False   \n",
            "\n",
            "   AHGA_ 7th and 8th grade  AHGA_ 9th grade  \\\n",
            "0                    False            False   \n",
            "1                    False            False   \n",
            "2                    False            False   \n",
            "3                    False            False   \n",
            "4                    False            False   \n",
            "\n",
            "   AHGA_ Associates degree-academic program  \\\n",
            "0                                     False   \n",
            "1                                     False   \n",
            "2                                     False   \n",
            "3                                     False   \n",
            "4                                     False   \n",
            "\n",
            "   AHGA_ Associates degree-occup /vocational  \\\n",
            "0                                      False   \n",
            "1                                      False   \n",
            "2                                      False   \n",
            "3                                      False   \n",
            "4                                      False   \n",
            "\n",
            "   AHGA_ Bachelors degree(BA AB BS)  AHGA_ Children  \\\n",
            "0                             False           False   \n",
            "1                             False           False   \n",
            "2                             False           False   \n",
            "3                             False            True   \n",
            "4                             False            True   \n",
            "\n",
            "   AHGA_ Doctorate degree(PhD EdD)  AHGA_ High school graduate  \\\n",
            "0                            False                        True   \n",
            "1                            False                       False   \n",
            "2                            False                       False   \n",
            "3                            False                       False   \n",
            "4                            False                       False   \n",
            "\n",
            "   AHGA_ Less than 1st grade  AHGA_ Masters degree(MA MS MEng MEd MSW MBA)  \\\n",
            "0                      False                                         False   \n",
            "1                      False                                         False   \n",
            "2                      False                                         False   \n",
            "3                      False                                         False   \n",
            "4                      False                                         False   \n",
            "\n",
            "   AHGA_ Prof school degree (MD DDS DVM LLB JD)  \\\n",
            "0                                         False   \n",
            "1                                         False   \n",
            "2                                         False   \n",
            "3                                         False   \n",
            "4                                         False   \n",
            "\n",
            "   AHGA_ Some college but no degree  AHSCOL_ High school  \\\n",
            "0                             False                False   \n",
            "1                              True                False   \n",
            "2                             False                 True   \n",
            "3                             False                False   \n",
            "4                             False                False   \n",
            "\n",
            "   AHSCOL_ Not in universe  AMARITL_ Married-A F spouse present  \\\n",
            "0                     True                                False   \n",
            "1                     True                                False   \n",
            "2                    False                                False   \n",
            "3                     True                                False   \n",
            "4                     True                                False   \n",
            "\n",
            "   AMARITL_ Married-civilian spouse present  AMARITL_ Married-spouse absent  \\\n",
            "0                                     False                           False   \n",
            "1                                     False                           False   \n",
            "2                                     False                           False   \n",
            "3                                     False                           False   \n",
            "4                                     False                           False   \n",
            "\n",
            "   AMARITL_ Never married  AMARITL_ Separated  AMARITL_ Widowed  \\\n",
            "0                   False               False              True   \n",
            "1                   False               False             False   \n",
            "2                    True               False             False   \n",
            "3                    True               False             False   \n",
            "4                    True               False             False   \n",
            "\n",
            "   AMJIND_ Armed Forces  AMJIND_ Business and repair services  \\\n",
            "0                 False                                 False   \n",
            "1                 False                                 False   \n",
            "2                 False                                 False   \n",
            "3                 False                                 False   \n",
            "4                 False                                 False   \n",
            "\n",
            "   AMJIND_ Communications  ...  PEMNTVTY_ United-States  PEMNTVTY_ Vietnam  \\\n",
            "0                   False  ...                     True              False   \n",
            "1                   False  ...                     True              False   \n",
            "2                   False  ...                    False               True   \n",
            "3                   False  ...                     True              False   \n",
            "4                   False  ...                     True              False   \n",
            "\n",
            "   PEMNTVTY_ Yugoslavia  PENATVTY_ Canada  PENATVTY_ China  \\\n",
            "0                 False             False            False   \n",
            "1                 False             False            False   \n",
            "2                 False             False            False   \n",
            "3                 False             False            False   \n",
            "4                 False             False            False   \n",
            "\n",
            "   PENATVTY_ Columbia  PENATVTY_ Cuba  PENATVTY_ Dominican-Republic  \\\n",
            "0               False           False                         False   \n",
            "1               False           False                         False   \n",
            "2               False           False                         False   \n",
            "3               False           False                         False   \n",
            "4               False           False                         False   \n",
            "\n",
            "   PENATVTY_ Ecuador  PENATVTY_ El-Salvador  PENATVTY_ England  \\\n",
            "0              False                  False              False   \n",
            "1              False                  False              False   \n",
            "2              False                  False              False   \n",
            "3              False                  False              False   \n",
            "4              False                  False              False   \n",
            "\n",
            "   PENATVTY_ France  PENATVTY_ Germany  PENATVTY_ Greece  PENATVTY_ Guatemala  \\\n",
            "0             False              False             False                False   \n",
            "1             False              False             False                False   \n",
            "2             False              False             False                False   \n",
            "3             False              False             False                False   \n",
            "4             False              False             False                False   \n",
            "\n",
            "   PENATVTY_ Haiti  PENATVTY_ Holand-Netherlands  PENATVTY_ Honduras  \\\n",
            "0            False                         False               False   \n",
            "1            False                         False               False   \n",
            "2            False                         False               False   \n",
            "3            False                         False               False   \n",
            "4            False                         False               False   \n",
            "\n",
            "   PENATVTY_ Hong Kong  PENATVTY_ Hungary  PENATVTY_ India  PENATVTY_ Iran  \\\n",
            "0                False              False            False           False   \n",
            "1                False              False            False           False   \n",
            "2                False              False            False           False   \n",
            "3                False              False            False           False   \n",
            "4                False              False            False           False   \n",
            "\n",
            "   PENATVTY_ Ireland  PENATVTY_ Italy  PENATVTY_ Jamaica  PENATVTY_ Japan  \\\n",
            "0              False            False              False            False   \n",
            "1              False            False              False            False   \n",
            "2              False            False              False            False   \n",
            "3              False            False              False            False   \n",
            "4              False            False              False            False   \n",
            "\n",
            "   PENATVTY_ Laos  PENATVTY_ Mexico  PENATVTY_ Nicaragua  \\\n",
            "0           False             False                False   \n",
            "1           False             False                False   \n",
            "2           False             False                False   \n",
            "3           False             False                False   \n",
            "4           False             False                False   \n",
            "\n",
            "   PENATVTY_ Outlying-U S (Guam USVI etc)  PENATVTY_ Panama  PENATVTY_ Peru  \\\n",
            "0                                   False             False           False   \n",
            "1                                   False             False           False   \n",
            "2                                   False             False           False   \n",
            "3                                   False             False           False   \n",
            "4                                   False             False           False   \n",
            "\n",
            "   PENATVTY_ Philippines  PENATVTY_ Poland  PENATVTY_ Portugal  \\\n",
            "0                  False             False               False   \n",
            "1                  False             False               False   \n",
            "2                  False             False               False   \n",
            "3                  False             False               False   \n",
            "4                  False             False               False   \n",
            "\n",
            "   PENATVTY_ Puerto-Rico  PENATVTY_ Scotland  PENATVTY_ South Korea  \\\n",
            "0                  False               False                  False   \n",
            "1                  False               False                  False   \n",
            "2                  False               False                  False   \n",
            "3                  False               False                  False   \n",
            "4                  False               False                  False   \n",
            "\n",
            "   PENATVTY_ Taiwan  PENATVTY_ Thailand  PENATVTY_ Trinadad&Tobago  \\\n",
            "0             False               False                      False   \n",
            "1             False               False                      False   \n",
            "2             False               False                      False   \n",
            "3             False               False                      False   \n",
            "4             False               False                      False   \n",
            "\n",
            "   PENATVTY_ United-States  PENATVTY_ Vietnam  PENATVTY_ Yugoslavia  \\\n",
            "0                     True              False                 False   \n",
            "1                     True              False                 False   \n",
            "2                    False               True                 False   \n",
            "3                     True              False                 False   \n",
            "4                     True              False                 False   \n",
            "\n",
            "   PRCITSHP_ Foreign born- U S citizen by naturalization  \\\n",
            "0                                              False       \n",
            "1                                              False       \n",
            "2                                              False       \n",
            "3                                              False       \n",
            "4                                              False       \n",
            "\n",
            "   PRCITSHP_ Native- Born abroad of American Parent(s)  \\\n",
            "0                                              False     \n",
            "1                                              False     \n",
            "2                                              False     \n",
            "3                                              False     \n",
            "4                                              False     \n",
            "\n",
            "   PRCITSHP_ Native- Born in Puerto Rico or U S Outlying  \\\n",
            "0                                              False       \n",
            "1                                              False       \n",
            "2                                              False       \n",
            "3                                              False       \n",
            "4                                              False       \n",
            "\n",
            "   PRCITSHP_ Native- Born in the United States  VETQVA_ Not in universe  \\\n",
            "0                                         True                     True   \n",
            "1                                         True                     True   \n",
            "2                                        False                     True   \n",
            "3                                         True                     True   \n",
            "4                                         True                     True   \n",
            "\n",
            "   VETQVA_ Yes  \n",
            "0        False  \n",
            "1        False  \n",
            "2        False  \n",
            "3        False  \n",
            "4        False  \n",
            "\n",
            "[5 rows x 374 columns]\n"
          ]
        }
      ],
      "source": [
        "# Initialize the label encoder\n",
        "le = LabelEncoder()\n",
        "\n",
        "# Convert 'income' and 'ASEX' into binary variables\n",
        "df_census['income'] = le.fit_transform(df_census['income'])\n",
        "df_census['ASEX'] = le.fit_transform(df_census['ASEX'])\n",
        "\n",
        "# Apply get_dummies() to convert remaining categorical variables\n",
        "df_census = pd.get_dummies(df_census, drop_first=True)\n",
        "\n",
        "# Display all columns for verification\n",
        "pd.set_option('display.max_columns', 100)\n",
        "\n",
        "# Show a preview of the DataFrame after transformation\n",
        "print(df_census.head())\n"
      ]
    },
    {
      "cell_type": "markdown",
      "metadata": {
        "id": "zkVhTTEuJiYK"
      },
      "source": [
        "# 3. Training dataset"
      ]
    },
    {
      "cell_type": "code",
      "execution_count": null,
      "metadata": {
        "colab": {
          "base_uri": "https://localhost:8080/"
        },
        "id": "S3WiK34JJq4n",
        "outputId": "078fdbae-f7f9-4e42-e132-0c029f95ffe5"
      },
      "outputs": [
        {
          "name": "stdout",
          "output_type": "stream",
          "text": [
            "\n",
            " Starting model training...\n",
            "\n"
          ]
        },
        {
          "name": "stderr",
          "output_type": "stream",
          "text": [
            "Training Models:  17%|█▋        | 1/6 [00:01<00:08,  1.77s/it]"
          ]
        },
        {
          "name": "stdout",
          "output_type": "stream",
          "text": [
            "\n",
            " Logistic Regression: Accuracy = 0.9480\n",
            "              precision    recall  f1-score   support\n",
            "\n",
            "           0       0.72      0.28      0.40      3749\n",
            "           1       0.95      0.99      0.97     56108\n",
            "\n",
            "    accuracy                           0.95     59857\n",
            "   macro avg       0.84      0.64      0.69     59857\n",
            "weighted avg       0.94      0.95      0.94     59857\n",
            "\n"
          ]
        },
        {
          "name": "stderr",
          "output_type": "stream",
          "text": [
            "\rTraining Models:  33%|███▎      | 2/6 [00:07<00:16,  4.12s/it]"
          ]
        },
        {
          "name": "stdout",
          "output_type": "stream",
          "text": [
            "\n",
            " Decision Tree: Accuracy = 0.9309\n",
            "              precision    recall  f1-score   support\n",
            "\n",
            "           0       0.45      0.49      0.47      3749\n",
            "           1       0.97      0.96      0.96     56108\n",
            "\n",
            "    accuracy                           0.93     59857\n",
            "   macro avg       0.71      0.73      0.72     59857\n",
            "weighted avg       0.93      0.93      0.93     59857\n",
            "\n"
          ]
        },
        {
          "name": "stderr",
          "output_type": "stream",
          "text": [
            "\rTraining Models:  50%|█████     | 3/6 [00:28<00:34, 11.63s/it]"
          ]
        },
        {
          "name": "stdout",
          "output_type": "stream",
          "text": [
            "\n",
            " Random Forest: Accuracy = 0.9551\n",
            "              precision    recall  f1-score   support\n",
            "\n",
            "           0       0.75      0.42      0.54      3749\n",
            "           1       0.96      0.99      0.98     56108\n",
            "\n",
            "    accuracy                           0.96     59857\n",
            "   macro avg       0.86      0.71      0.76     59857\n",
            "weighted avg       0.95      0.96      0.95     59857\n",
            "\n"
          ]
        },
        {
          "name": "stderr",
          "output_type": "stream",
          "text": [
            "\rTraining Models:  67%|██████▋   | 4/6 [00:37<00:21, 10.64s/it]"
          ]
        },
        {
          "name": "stdout",
          "output_type": "stream",
          "text": [
            "\n",
            " AdaBoost: Accuracy = 0.9482\n",
            "              precision    recall  f1-score   support\n",
            "\n",
            "           0       0.66      0.36      0.47      3749\n",
            "           1       0.96      0.99      0.97     56108\n",
            "\n",
            "    accuracy                           0.95     59857\n",
            "   macro avg       0.81      0.67      0.72     59857\n",
            "weighted avg       0.94      0.95      0.94     59857\n",
            "\n"
          ]
        },
        {
          "name": "stderr",
          "output_type": "stream",
          "text": [
            "\rTraining Models:  83%|████████▎ | 5/6 [01:16<00:21, 21.07s/it]"
          ]
        },
        {
          "name": "stdout",
          "output_type": "stream",
          "text": [
            "\n",
            " Gradient Boosting: Accuracy = 0.9552\n",
            "              precision    recall  f1-score   support\n",
            "\n",
            "           0       0.75      0.43      0.54      3749\n",
            "           1       0.96      0.99      0.98     56108\n",
            "\n",
            "    accuracy                           0.96     59857\n",
            "   macro avg       0.86      0.71      0.76     59857\n",
            "weighted avg       0.95      0.96      0.95     59857\n",
            "\n"
          ]
        },
        {
          "name": "stderr",
          "output_type": "stream",
          "text": [
            "Training Models: 100%|██████████| 6/6 [01:21<00:00, 13.50s/it]"
          ]
        },
        {
          "name": "stdout",
          "output_type": "stream",
          "text": [
            "\n",
            " XGBoost: Accuracy = 0.9574\n",
            "              precision    recall  f1-score   support\n",
            "\n",
            "           0       0.74      0.49      0.59      3749\n",
            "           1       0.97      0.99      0.98     56108\n",
            "\n",
            "    accuracy                           0.96     59857\n",
            "   macro avg       0.86      0.74      0.78     59857\n",
            "weighted avg       0.95      0.96      0.95     59857\n",
            "\n",
            "\n",
            " Final model results:\n",
            "                     Accuracy\n",
            "XGBoost              0.957365\n",
            "Gradient Boosting    0.955193\n",
            "Random Forest        0.955093\n",
            "AdaBoost             0.948176\n",
            "Logistic Regression  0.947976\n",
            "Decision Tree        0.930852\n"
          ]
        },
        {
          "name": "stderr",
          "output_type": "stream",
          "text": [
            "\n"
          ]
        }
      ],
      "source": [
        "# Load the Census Income KDD dataset\n",
        "census_income_kdd = fetch_ucirepo(id=117)\n",
        "df_census = census_income_kdd.data.original\n",
        "\n",
        "# Clean column names (remove spaces around names)\n",
        "df_census.columns = [col.strip() for col in df_census.columns]\n",
        "\n",
        "# Initialize the label encoder\n",
        "le = LabelEncoder()\n",
        "\n",
        "# Convert the target column 'income' into binary\n",
        "df_census['income'] = le.fit_transform(df_census['income'])\n",
        "\n",
        "# Convert categorical variables to 'category' type to optimize memory\n",
        "for col in df_census.select_dtypes(include=['object']).columns:\n",
        "    df_census[col] = df_census[col].astype('category').cat.codes\n",
        "\n",
        "# Separate dependent and independent variables\n",
        "X = df_census.drop(['income'], axis=1)\n",
        "y = df_census['income']\n",
        "\n",
        "# Split into training and test sets\n",
        "X_train, X_test, y_train, y_test = train_test_split(X, y, test_size=0.30, random_state=11)\n",
        "\n",
        "# Standardize the data (for Logistic Regression)\n",
        "scaler = StandardScaler()\n",
        "X_train = scaler.fit_transform(X_train)\n",
        "X_test = scaler.transform(X_test)\n",
        "\n",
        "# Initialize models\n",
        "models = {\n",
        "    \"Logistic Regression\": LogisticRegression(),\n",
        "    \"Decision Tree\": DecisionTreeClassifier(),\n",
        "    \"Random Forest\": RandomForestClassifier(n_jobs=-1),  # Parallelization\n",
        "    \"AdaBoost\": AdaBoostClassifier(),\n",
        "    \"Gradient Boosting\": GradientBoostingClassifier(),\n",
        "    \"XGBoost\": XGBClassifier(n_jobs=-1)  # Parallelization\n",
        "}\n",
        "\n",
        "results = {}\n",
        "\n",
        "print(\"\\n Starting model training...\\n\")\n",
        "for name, model in tqdm(models.items(), desc=\"Training Models\", leave=True):\n",
        "    model.fit(X_train, y_train)\n",
        "    y_pred = model.predict(X_test)\n",
        "    accuracy = accuracy_score(y_test, y_pred)\n",
        "    results[name] = accuracy\n",
        "    print(f\"\\n {name}: Accuracy = {accuracy:.4f}\")\n",
        "    print(classification_report(y_test, y_pred))\n",
        "\n",
        "# Display results as a DataFrame\n",
        "df_results = pd.DataFrame.from_dict(results, orient='index', columns=['Accuracy'])\n",
        "df_results = df_results.sort_values(by='Accuracy', ascending=False)\n",
        "\n",
        "print(\"\\n Final model results:\")\n",
        "print(df_results.to_string(index=True))\n"
      ]
    },
    {
      "cell_type": "markdown",
      "metadata": {
        "id": "nH6k5bTnOrtw"
      },
      "source": [
        "# 4. Fairness Metrics"
      ]
    },
    {
      "cell_type": "markdown",
      "metadata": {
        "id": "4JGC9Xba4QJV"
      },
      "source": [
        "To measure fairness in this dataset, we can use several fairness metrics, focusing on the `ASEX` (sex) and `ARACE` (race) columns as potential sensitive attributes.\n",
        "\n",
        "1. **Demographic Parity**  \n",
        "   - Measures whether the outcome distribution is the same across groups.\n",
        "   - The condition for demographic parity is, for all a,b∈A\\\n",
        "   P(C=1|A=a)=P(C=1|A=b) \\\n",
        "  Demographic parity requires equal proportion of positive predictions in each group (“No Disparate Impact”).\n",
        "   - Should be close to zero for fairness.\n",
        "\n",
        "2. **Equal Opportunity Difference**  \n",
        "   - Compares the true positive rates across groups.\n",
        "   - Formula:  \n",
        "     TPR(S = 0) - TPR(S = 1)\n",
        "   - Measures if disadvantaged groups receive the same benefits.\n",
        "\n",
        "3. **Equalized Odds**  \n",
        "   - Ensures both TPR and FPR (False Positive Rate) are equal across groups.\n",
        "   - The condition for True Positive parity is, for all a,b∈A \\\n",
        "P(C=1|Y=1,A=a)=P(C=1|Y=1,A=b).\n",
        "\n",
        "4. **Disparate Impact Ratio**  \n",
        "   - Measures how the probability of favorable outcomes differs.\n",
        "   - Should be between 0.8 and 1.25 for fairness.\n",
        "\n",
        "5. **Theil Index (Entropy-based metric)**  \n",
        "   - Measures inequality in the distribution of predictions.\n",
        "\n"
      ]
    },
    {
      "cell_type": "markdown",
      "metadata": {
        "id": "9e_WG9DxjzRf"
      },
      "source": [
        "## Sex"
      ]
    },
    {
      "cell_type": "code",
      "execution_count": null,
      "metadata": {
        "colab": {
          "base_uri": "https://localhost:8080/"
        },
        "id": "ao8I8pJT1bs_",
        "outputId": "01a6c016-9d44-4de1-9092-ac8783c72f73"
      },
      "outputs": [
        {
          "output_type": "stream",
          "name": "stderr",
          "text": [
            "/usr/local/lib/python3.11/dist-packages/sklearn/base.py:1389: DataConversionWarning: A column-vector y was passed when a 1d array was expected. Please change the shape of y to (n_samples,), for example using ravel().\n",
            "  return fit_method(estimator, *args, **kwargs)\n"
          ]
        },
        {
          "output_type": "stream",
          "name": "stdout",
          "text": [
            "Demographic Parity Difference: 0.0578\n",
            "Equalized Odds Difference: 0.3081\n",
            "Disparate Impact Ratio: 1.0618\n"
          ]
        }
      ],
      "source": [
        "# Fetch dataset\n",
        "census_income_kdd = fetch_ucirepo(id=117)\n",
        "X = census_income_kdd.data.features\n",
        "y = census_income_kdd.data.targets\n",
        "\n",
        "# Encode categorical variables\n",
        "X = X.apply(lambda col: LabelEncoder().fit_transform(col) if col.dtype == 'object' else col)\n",
        "\n",
        "# Define sensitive attribute (sex)\n",
        "sensitive_attr = \"ASEX\"  # 0: male, 1: female\n",
        "\n",
        "# Convert variable to binary\n",
        "y = y.apply(lambda col: LabelEncoder().fit_transform(col) if col.dtype == 'object' else col)\n",
        "\n",
        "# Train-test split\n",
        "X_train, X_test, y_train, y_test = train_test_split(X, y, test_size=0.2, random_state=42)\n",
        "\n",
        "# Train a classifier\n",
        "clf = RandomForestClassifier()\n",
        "clf.fit(X_train, y_train)\n",
        "y_pred = clf.predict(X_test)\n",
        "\n",
        "# Compute fairness metrics\n",
        "dpd = demographic_parity_difference(y_test, y_pred, sensitive_features=X_test[sensitive_attr])\n",
        "eod = equalized_odds_difference(y_test, y_pred, sensitive_features=X_test[sensitive_attr])\n",
        "\n",
        "# Calculate selection rates using groupby and mean\n",
        "# instead of selection_rate function\n",
        "selection_rate_female = y_pred[X_test[sensitive_attr] == 0].mean()\n",
        "selection_rate_male = y_pred[X_test[sensitive_attr] == 1].mean()\n",
        "\n",
        "# Disparate Impact Ratio\n",
        "disparate_impact = selection_rate_female / selection_rate_male\n",
        "\n",
        "print(f\"Demographic Parity Difference: {dpd:.4f}\")\n",
        "print(f\"Equalized Odds Difference: {eod:.4f}\")\n",
        "print(f\"Disparate Impact Ratio: {disparate_impact:.4f}\")\n"
      ]
    },
    {
      "cell_type": "markdown",
      "metadata": {
        "id": "yhcwT0TB5Jw6"
      },
      "source": [
        "1. Demographic Parity Difference (DPD) = 0.0584, which is rather low. This means that the probability of obtaining a positive result (`ŷ = 1`) is quite similar between men and women. This does not show an inequitable distribution.\n",
        "\n",
        "2. Equalized Odds Difference (EOD) = 0.3139, which is rather high. This means that the classification errors (true positive rate and false positive rate) differ significantly between men and women. Here, there is a notable bias in predicting classes based on gender.\n",
        "\n",
        "3. Disparate Impact Ratio (DIR) = 1.0624, which is close to 1, meaning that women and men have nearly the same probability of receiving a positive classification. The model is generally acceptable according to this metric."
      ]
    },
    {
      "cell_type": "code",
      "execution_count": null,
      "metadata": {
        "id": "AAz2smmT2EVH",
        "colab": {
          "base_uri": "https://localhost:8080/"
        },
        "outputId": "85fb3d80-60d8-42da-8e2a-ceb5e70fedff"
      },
      "outputs": [
        {
          "output_type": "stream",
          "name": "stdout",
          "text": [
            "TPR (male) : 0.9983, TPR (female) : 0.9817\n",
            "FPR (male) : 0.8224, FPR (female) : 0.5142\n",
            "TPR Difference: 0.0165\n",
            "FPR Difference: 0.3081\n"
          ]
        }
      ],
      "source": [
        "def compute_tpr_fpr(y_true, y_pred, sensitive_feature):\n",
        "    results = {}\n",
        "    for group in [0, 1]:  # 0: male, 1: female\n",
        "        y_true_group = y_true[sensitive_feature == group]\n",
        "        y_pred_group = y_pred[sensitive_feature == group]\n",
        "\n",
        "        tn, fp, fn, tp = confusion_matrix(y_true_group, y_pred_group).ravel()\n",
        "        tpr = tp / (tp + fn)  # Sensitivity\n",
        "        fpr = fp / (fp + tn)  # Fall-out\n",
        "\n",
        "        results[group] = {\"TPR\": tpr, \"FPR\": fpr}\n",
        "\n",
        "    return results\n",
        "\n",
        "fairness_metrics = compute_tpr_fpr(y_test.to_numpy().flatten(), y_pred, X_test[sensitive_attr])\n",
        "\n",
        "print(f\"TPR (male) : {fairness_metrics[0]['TPR']:.4f}, TPR (female) : {fairness_metrics[1]['TPR']:.4f}\")\n",
        "print(f\"FPR (male) : {fairness_metrics[0]['FPR']:.4f}, FPR (female) : {fairness_metrics[1]['FPR']:.4f}\")\n",
        "\n",
        "tpr_diff = abs(fairness_metrics[0]['TPR'] - fairness_metrics[1]['TPR'])\n",
        "fpr_diff = abs(fairness_metrics[0]['FPR'] - fairness_metrics[1]['FPR'])\n",
        "\n",
        "print(f\"TPR Difference: {tpr_diff:.4f}\")\n",
        "print(f\"FPR Difference: {fpr_diff:.4f}\")\n"
      ]
    },
    {
      "cell_type": "markdown",
      "metadata": {
        "id": "pGekLZPv5dgp"
      },
      "source": [
        "**TPR**  \n",
        "The model correctly identifies high income for both groups with high accuracy.  \n",
        "The difference in TPR is low, meaning that men and women have an almost equivalent chance of being correctly classified when earning more than 50k.\n",
        "\n",
        "**FPR**  \n",
        "There is an imbalance in classification errors:  \n",
        "Men have a much higher false positive rate (82.44%) compared to women (51.05%).  \n",
        "This means that many men with low income are incorrectly classified as having high income, whereas this happens less often for women.  \n",
        "\n",
        "The model often incorrectly classifies women as having too low an income, which creates an injustice in decision-making.  \n",
        "- This could be due to a data imbalance, where women with high income are fewer, skewing the model’s decision.  \n",
        "However, the dataset relies on real-world data, highlighting the imbalances and salary inequalities. The problem is not with the model but with the disparities in the dataset, linked to real-world disparities.\n",
        "\n",
        "A solution to address this would be to:\n",
        "- **Rebalance the training data**:  \n",
        "   - Check if the proportion of women with high income in the training set is too low.  \n",
        "   - Perform oversampling of high-income men or undersampling of high-income women.  \n",
        "\n",
        "- **Adjust the decision threshold**:  \n",
        "   - Currently, the model is too optimistic for men.\n",
        "\n",
        "- **Use fairness-constrained algorithms**:  \n",
        "   - Add constraints on Equalized Odds."
      ]
    },
    {
      "cell_type": "markdown",
      "metadata": {
        "id": "NRfFLCBV6AYp"
      },
      "source": [
        "## Race"
      ]
    },
    {
      "cell_type": "code",
      "execution_count": null,
      "metadata": {
        "id": "BfhlQ0MY5NGf",
        "colab": {
          "base_uri": "https://localhost:8080/"
        },
        "outputId": "516d80a3-cb3d-4284-c851-c28ff1c0b8dc"
      },
      "outputs": [
        {
          "output_type": "stream",
          "name": "stdout",
          "text": [
            "Demographic Parity Difference (Sex + Race): 0.0706\n",
            "Equalized Odds Difference (Sex + Race): 0.5652\n"
          ]
        }
      ],
      "source": [
        "# Define sensitive groups (combination of sex + race)\n",
        "X_test['Sex_Race'] = X_test['ASEX'].astype(str) + \"_\" + X_test['ARACE'].astype(str)\n",
        "\n",
        "# Calculate fairness metrics for each group\n",
        "dpd_race_sex = demographic_parity_difference(y_test, y_pred, sensitive_features=X_test['Sex_Race'])\n",
        "eod_race_sex = equalized_odds_difference(y_test, y_pred, sensitive_features=X_test['Sex_Race'])\n",
        "\n",
        "print(f\"Demographic Parity Difference (Sex + Race): {dpd_race_sex:.4f}\")\n",
        "print(f\"Equalized Odds Difference (Sex + Race): {eod_race_sex:.4f}\")"
      ]
    },
    {
      "cell_type": "markdown",
      "metadata": {
        "id": "bdrLh6csk48q"
      },
      "source": [
        "The Demographic Parity Difference indicates a slight imbalance in the predicted outcomes across sex and race groups. \\\n",
        "The Equalized Odds Difference indicates a significant discrepancy in classification errors (false positives and false negatives) between the groups, suggesting the model might be biased in terms of prediction errors for certain sex and race combinations."
      ]
    },
    {
      "cell_type": "markdown",
      "metadata": {
        "id": "TvKovMGq6QiK"
      },
      "source": [
        "Mean Difference (MD)"
      ]
    },
    {
      "cell_type": "code",
      "execution_count": null,
      "metadata": {
        "id": "jkzNMH1v6KEh",
        "colab": {
          "base_uri": "https://localhost:8080/"
        },
        "outputId": "b341fd21-584b-4f03-eeab-83ebe5f28e7b"
      },
      "outputs": [
        {
          "output_type": "stream",
          "name": "stdout",
          "text": [
            "Mean Difference (Sex): -0.0578\n"
          ]
        }
      ],
      "source": [
        "selection_female = selection_rate(y_true=y_test[X_test['ASEX'] == 1],\n",
        "                                    y_pred=y_pred[X_test['ASEX'] == 1])\n",
        "\n",
        "selection_male = selection_rate(y_true=y_test[X_test['ASEX'] == 0],\n",
        "                                  y_pred=y_pred[X_test['ASEX'] == 0])\n",
        "\n",
        "md_sex = selection_female - selection_male\n",
        "print(f\"Mean Difference (Sex): {md_sex:.4f}\")"
      ]
    },
    {
      "cell_type": "markdown",
      "metadata": {
        "id": "ZtYWPkNVYDNU"
      },
      "source": [
        "Mean Absolute Error (MAE)"
      ]
    },
    {
      "cell_type": "code",
      "execution_count": null,
      "metadata": {
        "id": "a0s__ov46R7I",
        "colab": {
          "base_uri": "https://localhost:8080/"
        },
        "outputId": "01fde661-9ed1-44c9-ce6a-16469bd0be28"
      },
      "outputs": [
        {
          "output_type": "stream",
          "name": "stdout",
          "text": [
            "MAE (Femmes): 0.0666, MAE (Hommes): 0.0215\n",
            "Brier Score (Femmes): 0.0666, Brier Score (Hommes): 0.0215\n"
          ]
        }
      ],
      "source": [
        "# Calcul des erreurs par groupe\n",
        "mae_sex = {\n",
        "    group: mean_absolute_error(y_test[X_test[\"ASEX\"] == group], y_pred[X_test[\"ASEX\"] == group])\n",
        "    for group in [0, 1]\n",
        "}\n",
        "brier_sex = {\n",
        "    group: brier_score_loss(y_test[X_test[\"ASEX\"] == group], y_pred[X_test[\"ASEX\"] == group])\n",
        "    for group in [0, 1]\n",
        "}\n",
        "\n",
        "print(f\"MAE (Femmes): {mae_sex[1]:.4f}, MAE (Hommes): {mae_sex[0]:.4f}\")\n",
        "print(f\"Brier Score (Femmes): {brier_sex[1]:.4f}, Brier Score (Hommes): {brier_sex[0]:.4f}\")\n"
      ]
    },
    {
      "cell_type": "code",
      "execution_count": null,
      "metadata": {
        "id": "CyqDOPfN6USz",
        "colab": {
          "base_uri": "https://localhost:8080/",
          "height": 626
        },
        "outputId": "277e90a5-69b8-473c-9d08-2681ec62e5b8"
      },
      "outputs": [
        {
          "output_type": "display_data",
          "data": {
            "text/plain": [
              "<Figure size 800x600 with 1 Axes>"
            ],
            "image/png": "[encoded data removed]"
          },
          "metadata": {}
        }
      ],
      "source": [
        "# Define categories for the number of weeks worked\n",
        "def categorize_weeks(weeks):\n",
        "    if weeks < 26:\n",
        "        return \"Less than 26 weeks\"\n",
        "    elif 26 <= weeks <= 51:\n",
        "        return \"Between 27 and 51 weeks\"\n",
        "    else:\n",
        "        return \"52 weeks or more\"\n",
        "\n",
        "# Apply the categorization\n",
        "X_test[\"Weeks_Category\"] = X_test[\"WKSWORK\"].apply(categorize_weeks)\n",
        "\n",
        "# Create a DataFrame with sex and high income\n",
        "df_fairness = pd.DataFrame({\n",
        "    \"Weeks_Category\": X_test[\"Weeks_Category\"],\n",
        "    \"Sex\": X_test[\"ASEX\"].map({0: \"Female\", 1: \"Male\"}),\n",
        "    \"Income > 50K\": y_pred\n",
        "})\n",
        "\n",
        "# Filter only those earning more than 50K\n",
        "df_fairness = df_fairness[df_fairness[\"Income > 50K\"] == 1]\n",
        "\n",
        "# Plot the graph\n",
        "plt.figure(figsize=(8, 6))\n",
        "sns.countplot(data=df_fairness, x=\"Weeks_Category\", hue=\"Sex\", palette=\"coolwarm\")\n",
        "plt.title(\"Number of men and women earning > 50K based on weeks worked\")\n",
        "plt.xlabel(\"Weeks worked category\")\n",
        "plt.ylabel(\"Number of individuals\")\n",
        "plt.legend(title=\"Sex\")\n",
        "plt.xticks(rotation=20)\n",
        "plt.show()\n"
      ]
    },
    {
      "cell_type": "code",
      "execution_count": null,
      "metadata": {
        "id": "-vkyAeFm7aWJ",
        "colab": {
          "base_uri": "https://localhost:8080/",
          "height": 626
        },
        "outputId": "2b453aeb-8859-43e3-dd58-273412276774"
      },
      "outputs": [
        {
          "output_type": "display_data",
          "data": {
            "text/plain": [
              "<Figure size 800x600 with 1 Axes>"
            ],
            "image/png": "[encoded data removed]"
          },
          "metadata": {}
        }
      ],
      "source": [
        "def categorize_weeks(weeks):\n",
        "    if weeks < 26:\n",
        "        return \"Less than 26 weeks\"\n",
        "    elif 26 <= weeks <= 51:\n",
        "        return \"Between 27 and 51 weeks\"\n",
        "    else:\n",
        "        return \"52 weeks or more\"\n",
        "\n",
        "X_test[\"Weeks_Category\"] = X_test[\"WKSWORK\"].apply(categorize_weeks)\n",
        "\n",
        "df_fairness_low = pd.DataFrame({\n",
        "    \"Weeks_Category\": X_test[\"Weeks_Category\"],\n",
        "    \"Sex\": X_test[\"ASEX\"].map({0: \"Female\", 1: \"Male\"}),\n",
        "    \"Income <= 50K\": (y_pred == 0)\n",
        "})\n",
        "\n",
        "df_fairness_low = df_fairness_low[df_fairness_low[\"Income <= 50K\"] == 1]\n",
        "\n",
        "plt.figure(figsize=(8, 6))\n",
        "sns.countplot(data=df_fairness_low, x=\"Weeks_Category\", hue=\"Sex\", palette=\"coolwarm\")\n",
        "plt.title(\"Number of men and women earning ≤ 50K based on weeks worked\")\n",
        "plt.xlabel(\"Weeks worked category\")\n",
        "plt.ylabel(\"Number of individuals\")\n",
        "plt.legend(title=\"Sex\")\n",
        "plt.xticks(rotation=20)\n",
        "plt.show()\n"
      ]
    },
    {
      "cell_type": "markdown",
      "metadata": {
        "id": "oR1TUU7j2-O6"
      },
      "source": [
        "ARACE"
      ]
    },
    {
      "cell_type": "code",
      "execution_count": null,
      "metadata": {
        "id": "HJclc8kO29ks",
        "colab": {
          "base_uri": "https://localhost:8080/",
          "height": 626
        },
        "outputId": "331e9ddb-d628-49de-ad48-6107945db62b"
      },
      "outputs": [
        {
          "output_type": "display_data",
          "data": {
            "text/plain": [
              "<Figure size 800x600 with 1 Axes>"
            ],
            "image/png": "[encoded data removed]"
          },
          "metadata": {}
        }
      ],
      "source": [
        "import matplotlib.pyplot as plt\n",
        "import seaborn as sns\n",
        "import pandas as pd\n",
        "\n",
        "# Define categories for the number of weeks worked\n",
        "def categorize_weeks(weeks):\n",
        "    if weeks < 26:\n",
        "        return \"Less than 26 weeks\"\n",
        "    elif 26 <= weeks <= 51:\n",
        "        return \"Between 27 and 51 weeks\"\n",
        "    else:\n",
        "        return \"52 weeks or more\"\n",
        "\n",
        "# Apply the categorization\n",
        "X_test[\"Weeks_Category\"] = X_test[\"WKSWORK\"].apply(categorize_weeks)\n",
        "\n",
        "# Create a DataFrame with ARACE (race) and high income\n",
        "df_fairness = pd.DataFrame({\n",
        "    \"Weeks_Category\": X_test[\"Weeks_Category\"],\n",
        "    \"Race\": X_test[\"ARACE\"].map({0: \"White\", 1: \"Asian\", 2: \"Amer Indian\", 3: \"Black\", 4: \"Other\"}),\n",
        "    \"Income > 50K\": y_pred\n",
        "})\n",
        "\n",
        "# Filter only those earning more than 50K\n",
        "df_fairness = df_fairness[df_fairness[\"Income > 50K\"] == 1]\n",
        "\n",
        "# Plot the graph\n",
        "plt.figure(figsize=(8, 6))\n",
        "sns.countplot(data=df_fairness, x=\"Weeks_Category\", hue=\"Race\", palette=\"coolwarm\")\n",
        "plt.title(\"Number of individuals earning > 50K based on weeks worked and race\")\n",
        "plt.xlabel(\"Weeks worked category\")\n",
        "plt.ylabel(\"Number of individuals\")\n",
        "plt.legend(title=\"Race\")\n",
        "plt.xticks(rotation=20)\n",
        "plt.show()\n"
      ]
    },
    {
      "cell_type": "markdown",
      "metadata": {
        "id": "xO4mQR0vwo0n"
      },
      "source": [
        "## IBM AIF360 metrics"
      ]
    },
    {
      "cell_type": "code",
      "execution_count": null,
      "metadata": {
        "colab": {
          "base_uri": "https://localhost:8080/"
        },
        "id": "cxDtQQ1C76vG",
        "outputId": "708c526a-0373-4fb6-f617-60471a84caf1"
      },
      "outputs": [
        {
          "output_type": "stream",
          "name": "stderr",
          "text": [
            "WARNING:root:No module named 'inFairness': SenSeI and SenSR will be unavailable. To install, run:\n",
            "pip install 'aif360[inFairness]'\n"
          ]
        },
        {
          "output_type": "stream",
          "name": "stdout",
          "text": [
            "Demographic Parity Difference: 0.0580\n",
            "Equalized Odds Difference: 0.0175\n",
            "Disparate Impact Ratio: 1.0619\n"
          ]
        }
      ],
      "source": [
        "# Fetch dataset\n",
        "census_income_kdd = fetch_ucirepo(id=117)\n",
        "X = census_income_kdd.data.features\n",
        "y = census_income_kdd.data.targets\n",
        "\n",
        "# Encode categorical variables\n",
        "X = X.apply(lambda col: LabelEncoder().fit_transform(col) if col.dtype == 'object' else col)\n",
        "y = y.apply(lambda col: LabelEncoder().fit_transform(col) if col.dtype == 'object' else col)\n",
        "\n",
        "# Define sensitive attribute\n",
        "sensitive_attr = \"ASEX\"  # 0: Female, 1: Male\n",
        "\n",
        "# Create a dataset compatible with AIF360\n",
        "X['income'] = y\n",
        "dataset = StandardDataset(\n",
        "      X,\n",
        "      label_name='income',\n",
        "      favorable_classes=[1],\n",
        "      protected_attribute_names=[sensitive_attr],\n",
        "      privileged_classes=[[1]],\n",
        "      features_to_drop=[]\n",
        "  )\n",
        "# Train-test split\n",
        "dataset_train, dataset_test = dataset.split([0.8], shuffle=True)\n",
        "\n",
        "# Train a classifier\n",
        "clf = RandomForestClassifier()\n",
        "X_train, y_train = dataset_train.features, dataset_train.labels.ravel()\n",
        "X_test, y_test = dataset_test.features, dataset_test.labels.ravel()\n",
        "clf.fit(X_train, y_train)\n",
        "y_pred = clf.predict(X_test)\n",
        "\n",
        "dataset_pred = dataset_test.copy()\n",
        "dataset_pred.labels = y_pred\n",
        "\n",
        "# Compute fairness metrics\n",
        "metric = ClassificationMetric(dataset_test, dataset_pred, unprivileged_groups=[{sensitive_attr: 0}],\n",
        "                              privileged_groups=[{sensitive_attr: 1}])\n",
        "\n",
        "dpd = metric.statistical_parity_difference()\n",
        "eod = metric.equal_opportunity_difference()\n",
        "disparate_impact = metric.disparate_impact()\n",
        "\n",
        "print(f\"Demographic Parity Difference: {dpd:.4f}\")\n",
        "print(f\"Equalized Odds Difference: {eod:.4f}\")\n",
        "print(f\"Disparate Impact Ratio: {disparate_impact:.4f}\")\n"
      ]
    },
    {
      "cell_type": "markdown",
      "metadata": {
        "id": "NV1QvVwjG1FJ"
      },
      "source": [
        "DPD suggests that males have a slightly higher probability of being classified as having a favorable outcome compared to females.\n",
        "Our model exhibits a small bias towards sex, but the impact is not significant."
      ]
    },
    {
      "cell_type": "markdown",
      "metadata": {
        "id": "MS_HwK2YC7P7"
      },
      "source": [
        "# 5. Mitigate Bias by Transforming the Original Dataset"
      ]
    },
    {
      "cell_type": "code",
      "execution_count": null,
      "metadata": {
        "id": "GFgXH23F5l2u"
      },
      "outputs": [],
      "source": [
        "from aif360.algorithms.preprocessing.optim_preproc import OptimPreproc\n",
        "from aif360.algorithms.preprocessing.optim_preproc_helpers.distortion_functions import get_distortion_adult\n",
        "from aif360.algorithms.preprocessing.optim_preproc_helpers.opt_tools import OptTools\n",
        "from aif360.datasets import StandardDataset\n",
        "from aif360.metrics import ClassificationMetric\n",
        "from aif360.algorithms.preprocessing import DisparateImpactRemover\n",
        "from sklearn.ensemble import RandomForestClassifier\n",
        "from sklearn.preprocessing import LabelEncoder\n",
        "import pandas as pd\n",
        "from ucimlrepo import fetch_ucirepo"
      ]
    },
    {
      "cell_type": "code",
      "execution_count": null,
      "metadata": {
        "colab": {
          "base_uri": "https://localhost:8080/"
        },
        "id": "-1w9rh0aKrgg",
        "outputId": "ad49201b-04b9-4aed-d9a6-2930e9fa601c"
      },
      "outputs": [
        {
          "output_type": "stream",
          "name": "stdout",
          "text": [
            "Collecting BlackBoxAuditing\n",
            "  Downloading BlackBoxAuditing-0.1.54.tar.gz (2.6 MB)\n",
            "\u001b[?25l     \u001b[90m━━━━━━━━━━━━━━━━━━━━━━━━━━━━━━━━━━━━━━━━\u001b[0m \u001b[32m0.0/2.6 MB\u001b[0m \u001b[31m?\u001b[0m eta \u001b[36m-:--:--\u001b[0m\r\u001b[2K     \u001b[91m━━━━━━━━━━━━\u001b[0m\u001b[90m╺\u001b[0m\u001b[90m━━━━━━━━━━━━━━━━━━━━━━━━━━━\u001b[0m \u001b[32m0.8/2.6 MB\u001b[0m \u001b[31m23.1 MB/s\u001b[0m eta \u001b[36m0:00:01\u001b[0m\r\u001b[2K     \u001b[91m━━━━━━━━━━━━━━━━━━━━━━━━━━━━━━━━━━━━━━━\u001b[0m\u001b[91m╸\u001b[0m \u001b[32m2.6/2.6 MB\u001b[0m \u001b[31m48.5 MB/s\u001b[0m eta \u001b[36m0:00:01\u001b[0m\r\u001b[2K     \u001b[90m━━━━━━━━━━━━━━━━━━━━━━━━━━━━━━━━━━━━━━━━\u001b[0m \u001b[32m2.6/2.6 MB\u001b[0m \u001b[31m33.0 MB/s\u001b[0m eta \u001b[36m0:00:00\u001b[0m\n",
            "\u001b[?25h  Preparing metadata (setup.py) ... \u001b[?25l\u001b[?25hdone\n",
            "Requirement already satisfied: aif360[inFairness] in /usr/local/lib/python3.11/dist-packages (0.6.1)\n",
            "Requirement already satisfied: numpy>=1.16 in /usr/local/lib/python3.11/dist-packages (from aif360[inFairness]) (1.26.4)\n",
            "Requirement already satisfied: scipy>=1.2.0 in /usr/local/lib/python3.11/dist-packages (from aif360[inFairness]) (1.13.1)\n",
            "Requirement already satisfied: pandas>=0.24.0 in /usr/local/lib/python3.11/dist-packages (from aif360[inFairness]) (2.2.2)\n",
            "Requirement already satisfied: scikit-learn>=1.0 in /usr/local/lib/python3.11/dist-packages (from aif360[inFairness]) (1.6.1)\n",
            "Requirement already satisfied: matplotlib in /usr/local/lib/python3.11/dist-packages (from aif360[inFairness]) (3.10.0)\n",
            "Collecting skorch (from aif360[inFairness])\n",
            "  Downloading skorch-1.1.0-py3-none-any.whl.metadata (11 kB)\n",
            "Collecting inFairness>=0.2.2 (from aif360[inFairness])\n",
            "  Downloading inFairness-0.2.3-py3-none-any.whl.metadata (8.1 kB)\n",
            "Requirement already satisfied: networkx in /usr/local/lib/python3.11/dist-packages (from BlackBoxAuditing) (3.4.2)\n",
            "Collecting POT>=0.8.0 (from inFairness>=0.2.2->aif360[inFairness])\n",
            "  Downloading POT-0.9.5-cp311-cp311-manylinux_2_17_x86_64.manylinux2014_x86_64.whl.metadata (34 kB)\n",
            "Requirement already satisfied: torch>=1.13.0 in /usr/local/lib/python3.11/dist-packages (from inFairness>=0.2.2->aif360[inFairness]) (2.5.1+cu124)\n",
            "Requirement already satisfied: python-dateutil>=2.8.2 in /usr/local/lib/python3.11/dist-packages (from pandas>=0.24.0->aif360[inFairness]) (2.8.2)\n",
            "Requirement already satisfied: pytz>=2020.1 in /usr/local/lib/python3.11/dist-packages (from pandas>=0.24.0->aif360[inFairness]) (2025.1)\n",
            "Requirement already satisfied: tzdata>=2022.7 in /usr/local/lib/python3.11/dist-packages (from pandas>=0.24.0->aif360[inFairness]) (2025.1)\n",
            "Requirement already satisfied: joblib>=1.2.0 in /usr/local/lib/python3.11/dist-packages (from scikit-learn>=1.0->aif360[inFairness]) (1.4.2)\n",
            "Requirement already satisfied: threadpoolctl>=3.1.0 in /usr/local/lib/python3.11/dist-packages (from scikit-learn>=1.0->aif360[inFairness]) (3.5.0)\n",
            "Requirement already satisfied: contourpy>=1.0.1 in /usr/local/lib/python3.11/dist-packages (from matplotlib->aif360[inFairness]) (1.3.1)\n",
            "Requirement already satisfied: cycler>=0.10 in /usr/local/lib/python3.11/dist-packages (from matplotlib->aif360[inFairness]) (0.12.1)\n",
            "Requirement already satisfied: fonttools>=4.22.0 in /usr/local/lib/python3.11/dist-packages (from matplotlib->aif360[inFairness]) (4.56.0)\n",
            "Requirement already satisfied: kiwisolver>=1.3.1 in /usr/local/lib/python3.11/dist-packages (from matplotlib->aif360[inFairness]) (1.4.8)\n",
            "Requirement already satisfied: packaging>=20.0 in /usr/local/lib/python3.11/dist-packages (from matplotlib->aif360[inFairness]) (24.2)\n",
            "Requirement already satisfied: pillow>=8 in /usr/local/lib/python3.11/dist-packages (from matplotlib->aif360[inFairness]) (11.1.0)\n",
            "Requirement already satisfied: pyparsing>=2.3.1 in /usr/local/lib/python3.11/dist-packages (from matplotlib->aif360[inFairness]) (3.2.1)\n",
            "Requirement already satisfied: tabulate>=0.7.7 in /usr/local/lib/python3.11/dist-packages (from skorch->aif360[inFairness]) (0.9.0)\n",
            "Requirement already satisfied: tqdm>=4.14.0 in /usr/local/lib/python3.11/dist-packages (from skorch->aif360[inFairness]) (4.67.1)\n",
            "Requirement already satisfied: six>=1.5 in /usr/local/lib/python3.11/dist-packages (from python-dateutil>=2.8.2->pandas>=0.24.0->aif360[inFairness]) (1.17.0)\n",
            "Requirement already satisfied: filelock in /usr/local/lib/python3.11/dist-packages (from torch>=1.13.0->inFairness>=0.2.2->aif360[inFairness]) (3.17.0)\n",
            "Requirement already satisfied: typing-extensions>=4.8.0 in /usr/local/lib/python3.11/dist-packages (from torch>=1.13.0->inFairness>=0.2.2->aif360[inFairness]) (4.12.2)\n",
            "Requirement already satisfied: jinja2 in /usr/local/lib/python3.11/dist-packages (from torch>=1.13.0->inFairness>=0.2.2->aif360[inFairness]) (3.1.5)\n",
            "Requirement already satisfied: fsspec in /usr/local/lib/python3.11/dist-packages (from torch>=1.13.0->inFairness>=0.2.2->aif360[inFairness]) (2024.10.0)\n",
            "Collecting nvidia-cuda-nvrtc-cu12==12.4.127 (from torch>=1.13.0->inFairness>=0.2.2->aif360[inFairness])\n",
            "  Downloading nvidia_cuda_nvrtc_cu12-12.4.127-py3-none-manylinux2014_x86_64.whl.metadata (1.5 kB)\n",
            "Collecting nvidia-cuda-runtime-cu12==12.4.127 (from torch>=1.13.0->inFairness>=0.2.2->aif360[inFairness])\n",
            "  Downloading nvidia_cuda_runtime_cu12-12.4.127-py3-none-manylinux2014_x86_64.whl.metadata (1.5 kB)\n",
            "Collecting nvidia-cuda-cupti-cu12==12.4.127 (from torch>=1.13.0->inFairness>=0.2.2->aif360[inFairness])\n",
            "  Downloading nvidia_cuda_cupti_cu12-12.4.127-py3-none-manylinux2014_x86_64.whl.metadata (1.6 kB)\n",
            "Collecting nvidia-cudnn-cu12==9.1.0.70 (from torch>=1.13.0->inFairness>=0.2.2->aif360[inFairness])\n",
            "  Downloading nvidia_cudnn_cu12-9.1.0.70-py3-none-manylinux2014_x86_64.whl.metadata (1.6 kB)\n",
            "Collecting nvidia-cublas-cu12==12.4.5.8 (from torch>=1.13.0->inFairness>=0.2.2->aif360[inFairness])\n",
            "  Downloading nvidia_cublas_cu12-12.4.5.8-py3-none-manylinux2014_x86_64.whl.metadata (1.5 kB)\n",
            "Collecting nvidia-cufft-cu12==11.2.1.3 (from torch>=1.13.0->inFairness>=0.2.2->aif360[inFairness])\n",
            "  Downloading nvidia_cufft_cu12-11.2.1.3-py3-none-manylinux2014_x86_64.whl.metadata (1.5 kB)\n",
            "Collecting nvidia-curand-cu12==10.3.5.147 (from torch>=1.13.0->inFairness>=0.2.2->aif360[inFairness])\n",
            "  Downloading nvidia_curand_cu12-10.3.5.147-py3-none-manylinux2014_x86_64.whl.metadata (1.5 kB)\n",
            "Collecting nvidia-cusolver-cu12==11.6.1.9 (from torch>=1.13.0->inFairness>=0.2.2->aif360[inFairness])\n",
            "  Downloading nvidia_cusolver_cu12-11.6.1.9-py3-none-manylinux2014_x86_64.whl.metadata (1.6 kB)\n",
            "Collecting nvidia-cusparse-cu12==12.3.1.170 (from torch>=1.13.0->inFairness>=0.2.2->aif360[inFairness])\n",
            "  Downloading nvidia_cusparse_cu12-12.3.1.170-py3-none-manylinux2014_x86_64.whl.metadata (1.6 kB)\n",
            "Requirement already satisfied: nvidia-nccl-cu12==2.21.5 in /usr/local/lib/python3.11/dist-packages (from torch>=1.13.0->inFairness>=0.2.2->aif360[inFairness]) (2.21.5)\n",
            "Requirement already satisfied: nvidia-nvtx-cu12==12.4.127 in /usr/local/lib/python3.11/dist-packages (from torch>=1.13.0->inFairness>=0.2.2->aif360[inFairness]) (12.4.127)\n",
            "Collecting nvidia-nvjitlink-cu12==12.4.127 (from torch>=1.13.0->inFairness>=0.2.2->aif360[inFairness])\n",
            "  Downloading nvidia_nvjitlink_cu12-12.4.127-py3-none-manylinux2014_x86_64.whl.metadata (1.5 kB)\n",
            "Requirement already satisfied: triton==3.1.0 in /usr/local/lib/python3.11/dist-packages (from torch>=1.13.0->inFairness>=0.2.2->aif360[inFairness]) (3.1.0)\n",
            "Requirement already satisfied: sympy==1.13.1 in /usr/local/lib/python3.11/dist-packages (from torch>=1.13.0->inFairness>=0.2.2->aif360[inFairness]) (1.13.1)\n",
            "Requirement already satisfied: mpmath<1.4,>=1.1.0 in /usr/local/lib/python3.11/dist-packages (from sympy==1.13.1->torch>=1.13.0->inFairness>=0.2.2->aif360[inFairness]) (1.3.0)\n",
            "Requirement already satisfied: MarkupSafe>=2.0 in /usr/local/lib/python3.11/dist-packages (from jinja2->torch>=1.13.0->inFairness>=0.2.2->aif360[inFairness]) (3.0.2)\n",
            "Downloading inFairness-0.2.3-py3-none-any.whl (45 kB)\n",
            "\u001b[2K   \u001b[90m━━━━━━━━━━━━━━━━━━━━━━━━━━━━━━━━━━━━━━━━\u001b[0m \u001b[32m45.8/45.8 kB\u001b[0m \u001b[31m3.0 MB/s\u001b[0m eta \u001b[36m0:00:00\u001b[0m\n",
            "\u001b[?25hDownloading skorch-1.1.0-py3-none-any.whl (228 kB)\n",
            "\u001b[2K   \u001b[90m━━━━━━━━━━━━━━━━━━━━━━━━━━━━━━━━━━━━━━━━\u001b[0m \u001b[32m228.9/228.9 kB\u001b[0m \u001b[31m16.1 MB/s\u001b[0m eta \u001b[36m0:00:00\u001b[0m\n",
            "\u001b[?25hDownloading POT-0.9.5-cp311-cp311-manylinux_2_17_x86_64.manylinux2014_x86_64.whl (897 kB)\n",
            "\u001b[2K   \u001b[90m━━━━━━━━━━━━━━━━━━━━━━━━━━━━━━━━━━━━━━━━\u001b[0m \u001b[32m897.5/897.5 kB\u001b[0m \u001b[31m46.3 MB/s\u001b[0m eta \u001b[36m0:00:00\u001b[0m\n",
            "\u001b[?25hDownloading nvidia_cublas_cu12-12.4.5.8-py3-none-manylinux2014_x86_64.whl (363.4 MB)\n",
            "\u001b[2K   \u001b[90m━━━━━━━━━━━━━━━━━━━━━━━━━━━━━━━━━━━━━━━━\u001b[0m \u001b[32m363.4/363.4 MB\u001b[0m \u001b[31m3.8 MB/s\u001b[0m eta \u001b[36m0:00:00\u001b[0m\n",
            "\u001b[?25hDownloading nvidia_cuda_cupti_cu12-12.4.127-py3-none-manylinux2014_x86_64.whl (13.8 MB)\n",
            "\u001b[2K   \u001b[90m━━━━━━━━━━━━━━━━━━━━━━━━━━━━━━━━━━━━━━━━\u001b[0m \u001b[32m13.8/13.8 MB\u001b[0m \u001b[31m39.5 MB/s\u001b[0m eta \u001b[36m0:00:00\u001b[0m\n",
            "\u001b[?25hDownloading nvidia_cuda_nvrtc_cu12-12.4.127-py3-none-manylinux2014_x86_64.whl (24.6 MB)\n",
            "\u001b[2K   \u001b[90m━━━━━━━━━━━━━━━━━━━━━━━━━━━━━━━━━━━━━━━━\u001b[0m \u001b[32m24.6/24.6 MB\u001b[0m \u001b[31m27.0 MB/s\u001b[0m eta \u001b[36m0:00:00\u001b[0m\n",
            "\u001b[?25hDownloading nvidia_cuda_runtime_cu12-12.4.127-py3-none-manylinux2014_x86_64.whl (883 kB)\n",
            "\u001b[2K   \u001b[90m━━━━━━━━━━━━━━━━━━━━━━━━━━━━━━━━━━━━━━━━\u001b[0m \u001b[32m883.7/883.7 kB\u001b[0m \u001b[31m40.4 MB/s\u001b[0m eta \u001b[36m0:00:00\u001b[0m\n",
            "\u001b[?25hDownloading nvidia_cudnn_cu12-9.1.0.70-py3-none-manylinux2014_x86_64.whl (664.8 MB)\n",
            "\u001b[2K   \u001b[90m━━━━━━━━━━━━━━━━━━━━━━━━━━━━━━━━━━━━━━━━\u001b[0m \u001b[32m664.8/664.8 MB\u001b[0m \u001b[31m843.5 kB/s\u001b[0m eta \u001b[36m0:00:00\u001b[0m\n",
            "\u001b[?25hDownloading nvidia_cufft_cu12-11.2.1.3-py3-none-manylinux2014_x86_64.whl (211.5 MB)\n",
            "\u001b[2K   \u001b[90m━━━━━━━━━━━━━━━━━━━━━━━━━━━━━━━━━━━━━━━━\u001b[0m \u001b[32m211.5/211.5 MB\u001b[0m \u001b[31m5.7 MB/s\u001b[0m eta \u001b[36m0:00:00\u001b[0m\n",
            "\u001b[?25hDownloading nvidia_curand_cu12-10.3.5.147-py3-none-manylinux2014_x86_64.whl (56.3 MB)\n",
            "\u001b[2K   \u001b[90m━━━━━━━━━━━━━━━━━━━━━━━━━━━━━━━━━━━━━━━━\u001b[0m \u001b[32m56.3/56.3 MB\u001b[0m \u001b[31m12.3 MB/s\u001b[0m eta \u001b[36m0:00:00\u001b[0m\n",
            "\u001b[?25hDownloading nvidia_cusolver_cu12-11.6.1.9-py3-none-manylinux2014_x86_64.whl (127.9 MB)\n",
            "\u001b[2K   \u001b[90m━━━━━━━━━━━━━━━━━━━━━━━━━━━━━━━━━━━━━━━━\u001b[0m \u001b[32m127.9/127.9 MB\u001b[0m \u001b[31m7.4 MB/s\u001b[0m eta \u001b[36m0:00:00\u001b[0m\n",
            "\u001b[?25hDownloading nvidia_cusparse_cu12-12.3.1.170-py3-none-manylinux2014_x86_64.whl (207.5 MB)\n",
            "\u001b[2K   \u001b[90m━━━━━━━━━━━━━━━━━━━━━━━━━━━━━━━━━━━━━━━━\u001b[0m \u001b[32m207.5/207.5 MB\u001b[0m \u001b[31m4.3 MB/s\u001b[0m eta \u001b[36m0:00:00\u001b[0m\n",
            "\u001b[?25hDownloading nvidia_nvjitlink_cu12-12.4.127-py3-none-manylinux2014_x86_64.whl (21.1 MB)\n",
            "\u001b[2K   \u001b[90m━━━━━━━━━━━━━━━━━━━━━━━━━━━━━━━━━━━━━━━━\u001b[0m \u001b[32m21.1/21.1 MB\u001b[0m \u001b[31m70.7 MB/s\u001b[0m eta \u001b[36m0:00:00\u001b[0m\n",
            "\u001b[?25hBuilding wheels for collected packages: BlackBoxAuditing\n",
            "  Building wheel for BlackBoxAuditing (setup.py) ... \u001b[?25l\u001b[?25hdone\n",
            "  Created wheel for BlackBoxAuditing: filename=BlackBoxAuditing-0.1.54-py2.py3-none-any.whl size=1394756 sha256=01674a8b447ca06d29b44c088faaa510c90beb0861186742a608e8f530da583e\n",
            "  Stored in directory: /root/.cache/pip/wheels/c9/8c/03/073e80e604151fb4cdc68b2e56a97f338d7723e4a4ab5e3823\n",
            "Successfully built BlackBoxAuditing\n",
            "Installing collected packages: nvidia-nvjitlink-cu12, nvidia-curand-cu12, nvidia-cufft-cu12, nvidia-cuda-runtime-cu12, nvidia-cuda-nvrtc-cu12, nvidia-cuda-cupti-cu12, nvidia-cublas-cu12, POT, nvidia-cusparse-cu12, nvidia-cudnn-cu12, skorch, nvidia-cusolver-cu12, BlackBoxAuditing, inFairness\n",
            "  Attempting uninstall: nvidia-nvjitlink-cu12\n",
            "    Found existing installation: nvidia-nvjitlink-cu12 12.5.82\n",
            "    Uninstalling nvidia-nvjitlink-cu12-12.5.82:\n",
            "      Successfully uninstalled nvidia-nvjitlink-cu12-12.5.82\n",
            "  Attempting uninstall: nvidia-curand-cu12\n",
            "    Found existing installation: nvidia-curand-cu12 10.3.6.82\n",
            "    Uninstalling nvidia-curand-cu12-10.3.6.82:\n",
            "      Successfully uninstalled nvidia-curand-cu12-10.3.6.82\n",
            "  Attempting uninstall: nvidia-cufft-cu12\n",
            "    Found existing installation: nvidia-cufft-cu12 11.2.3.61\n",
            "    Uninstalling nvidia-cufft-cu12-11.2.3.61:\n",
            "      Successfully uninstalled nvidia-cufft-cu12-11.2.3.61\n",
            "  Attempting uninstall: nvidia-cuda-runtime-cu12\n",
            "    Found existing installation: nvidia-cuda-runtime-cu12 12.5.82\n",
            "    Uninstalling nvidia-cuda-runtime-cu12-12.5.82:\n",
            "      Successfully uninstalled nvidia-cuda-runtime-cu12-12.5.82\n",
            "  Attempting uninstall: nvidia-cuda-nvrtc-cu12\n",
            "    Found existing installation: nvidia-cuda-nvrtc-cu12 12.5.82\n",
            "    Uninstalling nvidia-cuda-nvrtc-cu12-12.5.82:\n",
            "      Successfully uninstalled nvidia-cuda-nvrtc-cu12-12.5.82\n",
            "  Attempting uninstall: nvidia-cuda-cupti-cu12\n",
            "    Found existing installation: nvidia-cuda-cupti-cu12 12.5.82\n",
            "    Uninstalling nvidia-cuda-cupti-cu12-12.5.82:\n",
            "      Successfully uninstalled nvidia-cuda-cupti-cu12-12.5.82\n",
            "  Attempting uninstall: nvidia-cublas-cu12\n",
            "    Found existing installation: nvidia-cublas-cu12 12.5.3.2\n",
            "    Uninstalling nvidia-cublas-cu12-12.5.3.2:\n",
            "      Successfully uninstalled nvidia-cublas-cu12-12.5.3.2\n",
            "  Attempting uninstall: nvidia-cusparse-cu12\n",
            "    Found existing installation: nvidia-cusparse-cu12 12.5.1.3\n",
            "    Uninstalling nvidia-cusparse-cu12-12.5.1.3:\n",
            "      Successfully uninstalled nvidia-cusparse-cu12-12.5.1.3\n",
            "  Attempting uninstall: nvidia-cudnn-cu12\n",
            "    Found existing installation: nvidia-cudnn-cu12 9.3.0.75\n",
            "    Uninstalling nvidia-cudnn-cu12-9.3.0.75:\n",
            "      Successfully uninstalled nvidia-cudnn-cu12-9.3.0.75\n",
            "  Attempting uninstall: nvidia-cusolver-cu12\n",
            "    Found existing installation: nvidia-cusolver-cu12 11.6.3.83\n",
            "    Uninstalling nvidia-cusolver-cu12-11.6.3.83:\n",
            "      Successfully uninstalled nvidia-cusolver-cu12-11.6.3.83\n",
            "Successfully installed BlackBoxAuditing-0.1.54 POT-0.9.5 inFairness-0.2.3 nvidia-cublas-cu12-12.4.5.8 nvidia-cuda-cupti-cu12-12.4.127 nvidia-cuda-nvrtc-cu12-12.4.127 nvidia-cuda-runtime-cu12-12.4.127 nvidia-cudnn-cu12-9.1.0.70 nvidia-cufft-cu12-11.2.1.3 nvidia-curand-cu12-10.3.5.147 nvidia-cusolver-cu12-11.6.1.9 nvidia-cusparse-cu12-12.3.1.170 nvidia-nvjitlink-cu12-12.4.127 skorch-1.1.0\n"
          ]
        }
      ],
      "source": [
        "!pip install aif360[inFairness] BlackBoxAuditing"
      ]
    },
    {
      "cell_type": "code",
      "execution_count": null,
      "metadata": {
        "id": "H20hDTXnKMFt",
        "colab": {
          "base_uri": "https://localhost:8080/"
        },
        "outputId": "d0e4f4eb-f92c-421b-c14e-ba8f65b3ec74"
      },
      "outputs": [
        {
          "output_type": "stream",
          "name": "stdout",
          "text": [
            "Before Bias Mitigation:\n",
            "Demographic Parity Difference: 0.0589\n",
            "Equalized Odds Difference: 0.0161\n",
            "Disparate Impact Ratio: 1.0630\n",
            "\n",
            "After Bias Mitigation (Disparate Impact Remover):\n",
            "Demographic Parity Difference: 0.0605\n",
            "Equalized Odds Difference: 0.0172\n",
            "Disparate Impact Ratio: 1.0648\n"
          ]
        }
      ],
      "source": [
        "census_income_kdd = fetch_ucirepo(id=117)\n",
        "X = census_income_kdd.data.features\n",
        "y = census_income_kdd.data.targets\n",
        "\n",
        "# Encode categorical variables\n",
        "X = X.apply(lambda col: LabelEncoder().fit_transform(col) if col.dtype == 'object' else col)\n",
        "y = y.apply(lambda col: LabelEncoder().fit_transform(col) if col.dtype == 'object' else col)\n",
        "\n",
        "sensitive_attr = \"ASEX\"  # 0: Female, 1: Male\n",
        "\n",
        "X['income'] = y\n",
        "\n",
        "dataset = StandardDataset(\n",
        "      X,\n",
        "      label_name='income',\n",
        "      favorable_classes=[1],\n",
        "      protected_attribute_names=[sensitive_attr],\n",
        "      privileged_classes=[[0]],\n",
        "      features_to_drop=[]\n",
        "  )\n",
        "\n",
        "# Train-test split\n",
        "dataset_train, dataset_test = dataset.split([0.8], shuffle=True)\n",
        "\n",
        "# Define privileged and unprivileged groups\n",
        "unprivileged_groups = [{sensitive_attr: 0}]  # Female\n",
        "privileged_groups = [{sensitive_attr: 1}]  # Male\n",
        "\n",
        "# Train a classifier on the original dataset\n",
        "clf = RandomForestClassifier()\n",
        "X_train, y_train = dataset_train.features, dataset_train.labels.ravel()\n",
        "X_test, y_test = dataset_test.features, dataset_test.labels.ravel()\n",
        "clf.fit(X_train, y_train)\n",
        "y_pred = clf.predict(X_test)\n",
        "\n",
        "# Create a predicted dataset\n",
        "dataset_pred = dataset_test.copy()\n",
        "dataset_pred.labels = y_pred\n",
        "\n",
        "# Compute fairness metrics before mitigation\n",
        "metric_orig = ClassificationMetric(dataset_test, dataset_pred,\n",
        "                                   unprivileged_groups=unprivileged_groups,\n",
        "                                   privileged_groups=privileged_groups)\n",
        "\n",
        "dpd_orig = metric_orig.statistical_parity_difference()\n",
        "eod_orig = metric_orig.equal_opportunity_difference()\n",
        "disparate_impact_orig = metric_orig.disparate_impact()\n",
        "\n",
        "print(\"Before Bias Mitigation:\")\n",
        "print(f\"Demographic Parity Difference: {dpd_orig:.4f}\")\n",
        "print(f\"Equalized Odds Difference: {eod_orig:.4f}\")\n",
        "print(f\"Disparate Impact Ratio: {disparate_impact_orig:.4f}\")\n",
        "\n",
        "# Apply Disparate Impact Remover\n",
        "di_remover = DisparateImpactRemover(repair_level=0.8)  # Higher value = more bias reduction\n",
        "dataset_transf_train = di_remover.fit_transform(dataset_train)\n",
        "\n",
        "# Train a classifier on the bias-mitigated dataset\n",
        "X_train_transf, y_train_transf = dataset_transf_train.features, dataset_transf_train.labels.ravel()\n",
        "clf.fit(X_train_transf, y_train_transf)\n",
        "\n",
        "# Predict on the original test set\n",
        "y_pred_transf = clf.predict(X_test)\n",
        "\n",
        "# Create a new dataset with the transformed predictions\n",
        "dataset_pred_transf = dataset_test.copy()\n",
        "dataset_pred_transf.labels = y_pred_transf\n",
        "\n",
        "# Compute fairness metrics after mitigation\n",
        "metric_transf = ClassificationMetric(dataset_test, dataset_pred_transf,\n",
        "                                     unprivileged_groups=unprivileged_groups,\n",
        "                                     privileged_groups=privileged_groups)\n",
        "\n",
        "dpd_transf = metric_transf.statistical_parity_difference()\n",
        "eod_transf = metric_transf.equal_opportunity_difference()\n",
        "disparate_impact_transf = metric_transf.disparate_impact()\n",
        "\n",
        "print(\"\\nAfter Bias Mitigation (Disparate Impact Remover):\")\n",
        "print(f\"Demographic Parity Difference: {dpd_transf:.4f}\")\n",
        "print(f\"Equalized Odds Difference: {eod_transf:.4f}\")\n",
        "print(f\"Disparate Impact Ratio: {disparate_impact_transf:.4f}\")\n"
      ]
    },
    {
      "cell_type": "code",
      "execution_count": null,
      "metadata": {
        "id": "T88XSVWi0PL7",
        "colab": {
          "base_uri": "https://localhost:8080/"
        },
        "outputId": "9b0e2e1b-73e7-40b3-f090-2a76adb72536"
      },
      "outputs": [
        {
          "output_type": "stream",
          "name": "stdout",
          "text": [
            "Distribution of ARACE with income >50K (1) and <=50K (0):\n",
            "income      0       1\n",
            "ARACE                \n",
            "0          49    2202\n",
            "1         430    5405\n",
            "2         540   19875\n",
            "3          91    3566\n",
            "4       11272  156093\n",
            "Before Bias Mitigation:\n",
            "Demographic Parity Difference: -0.0009\n",
            "Equalized Odds Difference: 0.0192\n",
            "Disparate Impact Ratio: 0.8874\n",
            "\n",
            "After Bias Mitigation (Disparate Impact Remover):\n",
            "Demographic Parity Difference: -0.0059\n",
            "Equalized Odds Difference: -0.1026\n",
            "Disparate Impact Ratio: 0.4437\n"
          ]
        }
      ],
      "source": [
        "census_income_kdd = fetch_ucirepo(id=117)\n",
        "X = census_income_kdd.data.features\n",
        "y = census_income_kdd.data.targets\n",
        "\n",
        "# Encode categorical variables\n",
        "X = X.apply(lambda col: LabelEncoder().fit_transform(col) if col.dtype == 'object' else col)\n",
        "y = y.apply(lambda col: LabelEncoder().fit_transform(col) if col.dtype == 'object' else col)\n",
        "\n",
        "# Define sensitive attribute related to race\n",
        "sensitive_attr = \"ARACE\"\n",
        "\n",
        "\n",
        "\n",
        "X['income'] = y\n",
        "\n",
        "# distribution of ARACE, incomes\n",
        "arace_income_dist = X.groupby(['ARACE', 'income']).size().unstack(fill_value=0)\n",
        "\n",
        "print(\"Distribution of ARACE with income >50K (1) and <=50K (0):\")\n",
        "print(arace_income_dist)\n",
        "\n",
        "dataset = StandardDataset(\n",
        "      X,\n",
        "      label_name='income',\n",
        "      favorable_classes=[0],\n",
        "      protected_attribute_names=[sensitive_attr],\n",
        "      privileged_classes=[[3]],\n",
        "      features_to_drop=[]\n",
        "  )\n",
        "\n",
        "# Train-test split\n",
        "dataset_train, dataset_test = dataset.split([0.8], shuffle=True)\n",
        "\n",
        "# Define privileged and unprivileged groups for race\n",
        "unprivileged_groups = [{sensitive_attr: 0}]\n",
        "privileged_groups = [{sensitive_attr: 3}]\n",
        "\n",
        "# Train a classifier on the original dataset\n",
        "clf = RandomForestClassifier()\n",
        "X_train, y_train = dataset_train.features, dataset_train.labels.ravel()\n",
        "X_test, y_test = dataset_test.features, dataset_test.labels.ravel()\n",
        "clf.fit(X_train, y_train)\n",
        "y_pred = clf.predict(X_test)\n",
        "\n",
        "# Create a predicted dataset\n",
        "dataset_pred = dataset_test.copy()\n",
        "dataset_pred.labels = y_pred\n",
        "\n",
        "# Compute fairness metrics before mitigation\n",
        "metric_orig = ClassificationMetric(dataset_test, dataset_pred,\n",
        "                                   unprivileged_groups=unprivileged_groups,\n",
        "                                   privileged_groups=privileged_groups)\n",
        "\n",
        "dpd_orig = metric_orig.statistical_parity_difference()\n",
        "eod_orig = metric_orig.equal_opportunity_difference()\n",
        "disparate_impact_orig = metric_orig.disparate_impact()\n",
        "\n",
        "print(\"Before Bias Mitigation:\")\n",
        "print(f\"Demographic Parity Difference: {dpd_orig:.4f}\")\n",
        "print(f\"Equalized Odds Difference: {eod_orig:.4f}\")\n",
        "print(f\"Disparate Impact Ratio: {disparate_impact_orig:.4f}\")\n",
        "\n",
        "# Apply Disparate Impact Remover\n",
        "di_remover = DisparateImpactRemover(repair_level=0.8)  # Higher value = more bias reduction\n",
        "dataset_transf_train = di_remover.fit_transform(dataset_train)\n",
        "\n",
        "# Train a classifier on the bias-mitigated dataset\n",
        "X_train_transf, y_train_transf = dataset_transf_train.features, dataset_transf_train.labels.ravel()\n",
        "clf.fit(X_train_transf, y_train_transf)\n",
        "\n",
        "# Predict on the original test set\n",
        "y_pred_transf = clf.predict(X_test)\n",
        "\n",
        "# Create a new dataset with the transformed predictions\n",
        "dataset_pred_transf = dataset_test.copy()\n",
        "dataset_pred_transf.labels = y_pred_transf\n",
        "\n",
        "# Compute fairness metrics after mitigation\n",
        "metric_transf = ClassificationMetric(dataset_test, dataset_pred_transf,\n",
        "                                     unprivileged_groups=unprivileged_groups,\n",
        "                                     privileged_groups=privileged_groups)\n",
        "\n",
        "dpd_transf = metric_transf.statistical_parity_difference()\n",
        "eod_transf = metric_transf.equal_opportunity_difference()\n",
        "disparate_impact_transf = metric_transf.disparate_impact()\n",
        "\n",
        "print(\"\\nAfter Bias Mitigation (Disparate Impact Remover):\")\n",
        "print(f\"Demographic Parity Difference: {dpd_transf:.4f}\")\n",
        "print(f\"Equalized Odds Difference: {eod_transf:.4f}\")\n",
        "print(f\"Disparate Impact Ratio: {disparate_impact_transf:.4f}\")\n"
      ]
    },
    {
      "cell_type": "code",
      "source": [],
      "metadata": {
        "id": "laHMOAFu8S0l"
      },
      "execution_count": null,
      "outputs": []
    }
  ],
  "metadata": {
    "colab": {
      "toc_visible": true,
      "provenance": []
    },
    "kernelspec": {
      "display_name": "Python 3",
      "name": "python3"
    },
    "language_info": {
      "name": "python"
    }
  },
  "nbformat": 4,
  "nbformat_minor": 0
}